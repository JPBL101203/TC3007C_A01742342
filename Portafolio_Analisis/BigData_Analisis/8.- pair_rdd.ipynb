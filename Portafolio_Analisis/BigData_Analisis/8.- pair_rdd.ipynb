{
 "cells": [
  {
   "cell_type": "code",
   "execution_count": 1,
   "id": "ef96633d",
   "metadata": {},
   "outputs": [
    {
     "name": "stderr",
     "output_type": "stream",
     "text": [
      "Setting default log level to \"WARN\".\n",
      "To adjust logging level use sc.setLogLevel(newLevel). For SparkR, use setLogLevel(newLevel).\n",
      "23/10/16 15:55:09 WARN NativeCodeLoader: Unable to load native-hadoop library for your platform... using builtin-java classes where applicable\n"
     ]
    }
   ],
   "source": [
    "from pyspark import SparkContext\n",
    "sc = SparkContext()"
   ]
  },
  {
   "cell_type": "code",
   "execution_count": 28,
   "id": "327aad9d",
   "metadata": {},
   "outputs": [],
   "source": [
    "from operator import add"
   ]
  },
  {
   "cell_type": "code",
   "execution_count": 2,
   "id": "e4fcf71a",
   "metadata": {},
   "outputs": [],
   "source": [
    "lista_tuplas = [('a',1),('b',2),('c',3)]"
   ]
  },
  {
   "cell_type": "code",
   "execution_count": 3,
   "id": "abdb3d38",
   "metadata": {},
   "outputs": [],
   "source": [
    "pair_rdd = sc.parallelize(lista_tuplas)"
   ]
  },
  {
   "cell_type": "code",
   "execution_count": 4,
   "id": "791b7fbb",
   "metadata": {},
   "outputs": [
    {
     "name": "stderr",
     "output_type": "stream",
     "text": [
      "                                                                                \r"
     ]
    },
    {
     "data": {
      "text/plain": [
       "[('a', 1), ('b', 2), ('c', 3)]"
      ]
     },
     "execution_count": 4,
     "metadata": {},
     "output_type": "execute_result"
    }
   ],
   "source": [
    "pair_rdd.collect()"
   ]
  },
  {
   "cell_type": "code",
   "execution_count": 5,
   "id": "95e3c575",
   "metadata": {},
   "outputs": [],
   "source": [
    "pair_rdd2 = sc.parallelize(zip((['a','b','c']),range(1,4)))"
   ]
  },
  {
   "cell_type": "code",
   "execution_count": 6,
   "id": "2c082081",
   "metadata": {},
   "outputs": [
    {
     "data": {
      "text/plain": [
       "[('a', 1), ('b', 2), ('c', 3)]"
      ]
     },
     "execution_count": 6,
     "metadata": {},
     "output_type": "execute_result"
    }
   ],
   "source": [
    "pair_rdd2.collect()"
   ]
  },
  {
   "cell_type": "code",
   "execution_count": 7,
   "id": "213fa224",
   "metadata": {},
   "outputs": [],
   "source": [
    "rdd_celestina = sc.textFile('LaCelestina.txt')"
   ]
  },
  {
   "cell_type": "code",
   "execution_count": 8,
   "id": "66598edf",
   "metadata": {},
   "outputs": [],
   "source": [
    "pair_rdd_celestina = rdd_celestina.map(lambda x: (x.split(\" \")[0],x))"
   ]
  },
  {
   "cell_type": "code",
   "execution_count": 9,
   "id": "305da40b",
   "metadata": {},
   "outputs": [
    {
     "name": "stderr",
     "output_type": "stream",
     "text": [
      "                                                                                \r"
     ]
    },
    {
     "data": {
      "text/plain": [
       "[('_rezio,', '_rezio, rezios, rezia_ **** recio, recios, recia;'),\n",
       " ('Ariadna:',\n",
       "  'Ariadna: Leandro: que pago les diste? Hasta Dauid e Salomon no'),\n",
       " ('', ''),\n",
       " ('bienandanzas:',\n",
       "  'bienandanzas: me pareces vn laberinto de errores.  Vn desierto'),\n",
       " ('(Refran:)', '(Refran:) \"El loco por la pena es cuerdo.  Refr. con'),\n",
       " ('', ''),\n",
       " ('_esquiuo,', '_esquiuo, esquiua, esquiuas_ **** esquivo: aspero, malo'),\n",
       " ('loadas',\n",
       "  'loadas e manifiestas virtudes.  Pues, o alto dios! como te podre'),\n",
       " ('_auise_', '_auise_ **** avise'),\n",
       " ('_pudistes_', '_pudistes_ **** pudisteis'),\n",
       " ('perdera', 'perdera aquella casa el nombre de Celestina: que dios aya:'),\n",
       " ('panjzo', 'panjzo e lubja e arbejas como se usa en la cibdat'),\n",
       " ('confiese',\n",
       "  'confiese que le seria mejor estar en mediano estado / o en honesta'),\n",
       " ('ELIC.--o',\n",
       "  'ELIC.--o hideputa el pelon e como se desasna: quien le ve yr al'),\n",
       " ('fin', 'fin de su habla. agora tengo por cierto: que es mas penoso al')]"
      ]
     },
     "execution_count": 9,
     "metadata": {},
     "output_type": "execute_result"
    }
   ],
   "source": [
    "pair_rdd_celestina.takeSample(False, 15)"
   ]
  },
  {
   "cell_type": "code",
   "execution_count": 10,
   "id": "13d70846",
   "metadata": {},
   "outputs": [],
   "source": [
    "rdd = sc.parallelize(range(5))"
   ]
  },
  {
   "cell_type": "code",
   "execution_count": 11,
   "id": "a7ead836",
   "metadata": {},
   "outputs": [
    {
     "data": {
      "text/plain": [
       "[0, 1, 2, 3, 4]"
      ]
     },
     "execution_count": 11,
     "metadata": {},
     "output_type": "execute_result"
    }
   ],
   "source": [
    "rdd.collect()"
   ]
  },
  {
   "cell_type": "code",
   "execution_count": 12,
   "id": "e1ac6159",
   "metadata": {},
   "outputs": [],
   "source": [
    "pair_rdd = rdd.keyBy(lambda x: x+1)"
   ]
  },
  {
   "cell_type": "code",
   "execution_count": 13,
   "id": "a24dcedd",
   "metadata": {},
   "outputs": [
    {
     "data": {
      "text/plain": [
       "[(1, 0), (2, 1), (3, 2), (4, 3), (5, 4)]"
      ]
     },
     "execution_count": 13,
     "metadata": {},
     "output_type": "execute_result"
    }
   ],
   "source": [
    "pair_rdd.collect()"
   ]
  },
  {
   "cell_type": "code",
   "execution_count": 14,
   "id": "233620c1",
   "metadata": {},
   "outputs": [],
   "source": [
    "rdd = sc.parallelize(['a','b','c','d','e'])"
   ]
  },
  {
   "cell_type": "code",
   "execution_count": 15,
   "id": "b9ebcca0",
   "metadata": {},
   "outputs": [],
   "source": [
    "pair_rdd = rdd.zipWithIndex()"
   ]
  },
  {
   "cell_type": "code",
   "execution_count": 16,
   "id": "a3f14b5b",
   "metadata": {},
   "outputs": [
    {
     "data": {
      "text/plain": [
       "[('a', 0), ('b', 1), ('c', 2), ('d', 3), ('e', 4)]"
      ]
     },
     "execution_count": 16,
     "metadata": {},
     "output_type": "execute_result"
    }
   ],
   "source": [
    "pair_rdd.collect()"
   ]
  },
  {
   "cell_type": "code",
   "execution_count": 17,
   "id": "1a375f33",
   "metadata": {},
   "outputs": [
    {
     "data": {
      "text/plain": [
       "[('a', 0), ('b', 1), ('c', 2), ('d', 3), ('e', 4)]"
      ]
     },
     "execution_count": 17,
     "metadata": {},
     "output_type": "execute_result"
    }
   ],
   "source": [
    "rdd.zipWithUniqueId().collect()"
   ]
  },
  {
   "cell_type": "code",
   "execution_count": 18,
   "id": "0f43d7a2",
   "metadata": {},
   "outputs": [],
   "source": [
    "rdd1 = sc.parallelize(range(5),3)"
   ]
  },
  {
   "cell_type": "code",
   "execution_count": 19,
   "id": "1e243498",
   "metadata": {},
   "outputs": [],
   "source": [
    "rdd2 = sc.parallelize(range(100,105,1),3)"
   ]
  },
  {
   "cell_type": "code",
   "execution_count": 20,
   "id": "0187b36b",
   "metadata": {},
   "outputs": [
    {
     "data": {
      "text/plain": [
       "[[0], [1, 2], [3, 4]]"
      ]
     },
     "execution_count": 20,
     "metadata": {},
     "output_type": "execute_result"
    }
   ],
   "source": [
    "rdd1.glom().collect()"
   ]
  },
  {
   "cell_type": "code",
   "execution_count": 21,
   "id": "aa4fe749",
   "metadata": {},
   "outputs": [
    {
     "data": {
      "text/plain": [
       "[[100], [101, 102], [103, 104]]"
      ]
     },
     "execution_count": 21,
     "metadata": {},
     "output_type": "execute_result"
    }
   ],
   "source": [
    "rdd2.glom().collect()"
   ]
  },
  {
   "cell_type": "code",
   "execution_count": 22,
   "id": "b7b890ed",
   "metadata": {},
   "outputs": [],
   "source": [
    "pair_rdd = rdd1.zip(rdd2)"
   ]
  },
  {
   "cell_type": "code",
   "execution_count": 23,
   "id": "cf1af600",
   "metadata": {},
   "outputs": [
    {
     "name": "stderr",
     "output_type": "stream",
     "text": [
      "                                                                                \r"
     ]
    },
    {
     "data": {
      "text/plain": [
       "[(0, 100), (1, 101), (2, 102), (3, 103), (4, 104)]"
      ]
     },
     "execution_count": 23,
     "metadata": {},
     "output_type": "execute_result"
    }
   ],
   "source": [
    "pair_rdd.collect()"
   ]
  },
  {
   "cell_type": "markdown",
   "id": "a6675eaf",
   "metadata": {},
   "source": [
    "Transformaciones de agregación para pair rdd"
   ]
  },
  {
   "cell_type": "code",
   "execution_count": 24,
   "id": "bdbd463e",
   "metadata": {},
   "outputs": [],
   "source": [
    "# reduceByKey y foldByKey - son transformaciones y no acciones"
   ]
  },
  {
   "cell_type": "code",
   "execution_count": 25,
   "id": "5a434815",
   "metadata": {},
   "outputs": [],
   "source": [
    "tupla = [('a',1), ('b',2), ('c',3), ('a',4), ('b',5), ('c',6), ('c',7)]"
   ]
  },
  {
   "cell_type": "code",
   "execution_count": 26,
   "id": "8fa85978",
   "metadata": {},
   "outputs": [],
   "source": [
    "pair_rdd = sc.parallelize(tupla)"
   ]
  },
  {
   "cell_type": "code",
   "execution_count": 27,
   "id": "3732e81b",
   "metadata": {},
   "outputs": [
    {
     "data": {
      "text/plain": [
       "[('a', 1), ('b', 2), ('c', 3), ('a', 4), ('b', 5), ('c', 6), ('c', 7)]"
      ]
     },
     "execution_count": 27,
     "metadata": {},
     "output_type": "execute_result"
    }
   ],
   "source": [
    "pair_rdd.collect()"
   ]
  },
  {
   "cell_type": "code",
   "execution_count": 29,
   "id": "e4e3406a",
   "metadata": {},
   "outputs": [],
   "source": [
    "rdd_reduce = pair_rdd.reduceByKey(add)"
   ]
  },
  {
   "cell_type": "code",
   "execution_count": 33,
   "id": "5564ec64",
   "metadata": {},
   "outputs": [
    {
     "data": {
      "text/plain": [
       "[('a', 5), ('b', 7), ('c', 16)]"
      ]
     },
     "execution_count": 33,
     "metadata": {},
     "output_type": "execute_result"
    }
   ],
   "source": [
    "rdd_reduce.collect()"
   ]
  },
  {
   "cell_type": "code",
   "execution_count": 31,
   "id": "37ac3c98",
   "metadata": {},
   "outputs": [],
   "source": [
    "rdd_fold = pair_rdd.foldByKey(0, add)"
   ]
  },
  {
   "cell_type": "code",
   "execution_count": 32,
   "id": "8af883ff",
   "metadata": {},
   "outputs": [
    {
     "data": {
      "text/plain": [
       "[('a', 5), ('b', 7), ('c', 16)]"
      ]
     },
     "execution_count": 32,
     "metadata": {},
     "output_type": "execute_result"
    }
   ],
   "source": [
    "rdd_fold.collect()"
   ]
  },
  {
   "cell_type": "code",
   "execution_count": 34,
   "id": "55f23e80",
   "metadata": {},
   "outputs": [],
   "source": [
    "# groupByKey agrupa por clave, es costoso, se puede utilizar primero reduceByKey"
   ]
  },
  {
   "cell_type": "code",
   "execution_count": 35,
   "id": "e59a669e",
   "metadata": {},
   "outputs": [],
   "source": [
    "rdd_group = pair_rdd.groupByKey()"
   ]
  },
  {
   "cell_type": "code",
   "execution_count": 36,
   "id": "4c24550d",
   "metadata": {},
   "outputs": [
    {
     "data": {
      "text/plain": [
       "[('a', <pyspark.resultiterable.ResultIterable at 0x7f9f8c7f5390>),\n",
       " ('b', <pyspark.resultiterable.ResultIterable at 0x7f9f8c7f42d0>),\n",
       " ('c', <pyspark.resultiterable.ResultIterable at 0x7f9f8c7bb590>)]"
      ]
     },
     "execution_count": 36,
     "metadata": {},
     "output_type": "execute_result"
    }
   ],
   "source": [
    "rdd_group.collect()"
   ]
  },
  {
   "cell_type": "code",
   "execution_count": 40,
   "id": "67b690e7",
   "metadata": {},
   "outputs": [],
   "source": [
    "lista = [(x, list(y)) for x,y in rdd_group.collect()]"
   ]
  },
  {
   "cell_type": "code",
   "execution_count": 41,
   "id": "94a12336",
   "metadata": {},
   "outputs": [
    {
     "data": {
      "text/plain": [
       "[('a', [1, 4]), ('b', [2, 5]), ('c', [3, 6, 7])]"
      ]
     },
     "execution_count": 41,
     "metadata": {},
     "output_type": "execute_result"
    }
   ],
   "source": [
    "lista"
   ]
  },
  {
   "cell_type": "code",
   "execution_count": 42,
   "id": "c433c358",
   "metadata": {},
   "outputs": [],
   "source": [
    "# combineByKey(createCombiner(), mergeValue(), mergeCombiners) - parecido a aggregate"
   ]
  },
  {
   "cell_type": "code",
   "execution_count": 45,
   "id": "3d88dfec",
   "metadata": {},
   "outputs": [],
   "source": [
    "rdd_suma_cuenta = pair_rdd.combineByKey(lambda x: (x,1),\n",
    "                                        lambda x,y: (x[0]+y, x[1]+1),\n",
    "                                        lambda x,y: (x[0],y[0],x[1]+y[1])\n",
    "                                       )"
   ]
  },
  {
   "cell_type": "code",
   "execution_count": 46,
   "id": "e756061b",
   "metadata": {},
   "outputs": [
    {
     "data": {
      "text/plain": [
       "[('a', (5, 2)), ('b', (7, 2)), ('c', (16, 3))]"
      ]
     },
     "execution_count": 46,
     "metadata": {},
     "output_type": "execute_result"
    }
   ],
   "source": [
    "rdd_suma_cuenta.collect()"
   ]
  },
  {
   "cell_type": "code",
   "execution_count": 47,
   "id": "ce364157",
   "metadata": {},
   "outputs": [],
   "source": [
    "rdd_media = rdd_suma_cuenta.mapValues(lambda v: (v[0])/v[1])"
   ]
  },
  {
   "cell_type": "code",
   "execution_count": 48,
   "id": "a4bb8a68",
   "metadata": {},
   "outputs": [
    {
     "data": {
      "text/plain": [
       "[('a', 2.5), ('b', 3.5), ('c', 5.333333333333333)]"
      ]
     },
     "execution_count": 48,
     "metadata": {},
     "output_type": "execute_result"
    }
   ],
   "source": [
    "rdd_media.collect()"
   ]
  },
  {
   "cell_type": "code",
   "execution_count": 49,
   "id": "175e3962",
   "metadata": {},
   "outputs": [],
   "source": [
    "# Transformaciones para claves o valores"
   ]
  },
  {
   "cell_type": "code",
   "execution_count": 50,
   "id": "505f6cf3",
   "metadata": {},
   "outputs": [
    {
     "data": {
      "text/plain": [
       "[('a', 1), ('b', 2), ('c', 3), ('a', 4), ('b', 5), ('c', 6), ('c', 7)]"
      ]
     },
     "execution_count": 50,
     "metadata": {},
     "output_type": "execute_result"
    }
   ],
   "source": [
    "pair_rdd.collect()"
   ]
  },
  {
   "cell_type": "code",
   "execution_count": 51,
   "id": "571dd105",
   "metadata": {},
   "outputs": [
    {
     "data": {
      "text/plain": [
       "['a', 'b', 'c', 'a', 'b', 'c', 'c']"
      ]
     },
     "execution_count": 51,
     "metadata": {},
     "output_type": "execute_result"
    }
   ],
   "source": [
    "pair_rdd.keys().collect()"
   ]
  },
  {
   "cell_type": "code",
   "execution_count": 52,
   "id": "9d1a7d8b",
   "metadata": {},
   "outputs": [
    {
     "data": {
      "text/plain": [
       "[1, 2, 3, 4, 5, 6, 7]"
      ]
     },
     "execution_count": 52,
     "metadata": {},
     "output_type": "execute_result"
    }
   ],
   "source": [
    "pair_rdd.values().collect()"
   ]
  },
  {
   "cell_type": "code",
   "execution_count": 54,
   "id": "0efac6b5",
   "metadata": {},
   "outputs": [
    {
     "data": {
      "text/plain": [
       "[('a', 1), ('a', 4), ('b', 2), ('b', 5), ('c', 3), ('c', 6), ('c', 7)]"
      ]
     },
     "execution_count": 54,
     "metadata": {},
     "output_type": "execute_result"
    }
   ],
   "source": [
    "pair_rdd.sortByKey().collect()"
   ]
  },
  {
   "cell_type": "code",
   "execution_count": 55,
   "id": "3ae6cb89",
   "metadata": {},
   "outputs": [],
   "source": [
    "# mapValues - aplica la función sobre los valores\n",
    "# flatMapValues - aplica la función sobre los valores y crea una lista simplificada"
   ]
  },
  {
   "cell_type": "code",
   "execution_count": 56,
   "id": "8459882d",
   "metadata": {},
   "outputs": [
    {
     "data": {
      "text/plain": [
       "[('a', (1, 10)),\n",
       " ('b', (2, 20)),\n",
       " ('c', (3, 30)),\n",
       " ('a', (4, 40)),\n",
       " ('b', (5, 50)),\n",
       " ('c', (6, 60)),\n",
       " ('c', (7, 70))]"
      ]
     },
     "execution_count": 56,
     "metadata": {},
     "output_type": "execute_result"
    }
   ],
   "source": [
    "pair_rdd.mapValues(lambda x: (x, x*10)).collect()"
   ]
  },
  {
   "cell_type": "code",
   "execution_count": 58,
   "id": "3cb950cb",
   "metadata": {},
   "outputs": [
    {
     "data": {
      "text/plain": [
       "[('a', 1),\n",
       " ('a', 10),\n",
       " ('b', 2),\n",
       " ('b', 20),\n",
       " ('c', 3),\n",
       " ('c', 30),\n",
       " ('a', 4),\n",
       " ('a', 40),\n",
       " ('b', 5),\n",
       " ('b', 50),\n",
       " ('c', 6),\n",
       " ('c', 60),\n",
       " ('c', 7),\n",
       " ('c', 70)]"
      ]
     },
     "execution_count": 58,
     "metadata": {},
     "output_type": "execute_result"
    }
   ],
   "source": [
    "pair_rdd.flatMapValues(lambda x: (x, x*10)).collect()"
   ]
  },
  {
   "cell_type": "markdown",
   "id": "fc200a02",
   "metadata": {},
   "source": [
    "# Join"
   ]
  },
  {
   "cell_type": "code",
   "execution_count": 59,
   "id": "9b25c03c",
   "metadata": {},
   "outputs": [],
   "source": [
    "rdd1 = sc.parallelize([('a',1),('b',2)])"
   ]
  },
  {
   "cell_type": "code",
   "execution_count": 60,
   "id": "dfd4ddd5",
   "metadata": {},
   "outputs": [],
   "source": [
    "rdd2 = sc.parallelize([('a',4),('b',5), ('c',6)])"
   ]
  },
  {
   "cell_type": "code",
   "execution_count": 61,
   "id": "44752953",
   "metadata": {},
   "outputs": [
    {
     "data": {
      "text/plain": [
       "[('a', 1), ('b', 2)]"
      ]
     },
     "execution_count": 61,
     "metadata": {},
     "output_type": "execute_result"
    }
   ],
   "source": [
    "rdd1.collect()"
   ]
  },
  {
   "cell_type": "code",
   "execution_count": 62,
   "id": "af3a5853",
   "metadata": {},
   "outputs": [
    {
     "data": {
      "text/plain": [
       "[('a', 4), ('b', 5), ('c', 6)]"
      ]
     },
     "execution_count": 62,
     "metadata": {},
     "output_type": "execute_result"
    }
   ],
   "source": [
    "rdd2.collect()"
   ]
  },
  {
   "cell_type": "code",
   "execution_count": 63,
   "id": "208ccc5b",
   "metadata": {},
   "outputs": [
    {
     "name": "stderr",
     "output_type": "stream",
     "text": [
      "                                                                                \r"
     ]
    },
    {
     "data": {
      "text/plain": [
       "[('b', (2, 5)), ('a', (1, 4))]"
      ]
     },
     "execution_count": 63,
     "metadata": {},
     "output_type": "execute_result"
    }
   ],
   "source": [
    "rdd1.join(rdd2).collect() # Igual a un inner join"
   ]
  },
  {
   "cell_type": "code",
   "execution_count": 64,
   "id": "e39c7ec2",
   "metadata": {},
   "outputs": [
    {
     "name": "stderr",
     "output_type": "stream",
     "text": [
      "                                                                                \r"
     ]
    },
    {
     "data": {
      "text/plain": [
       "[('b', (2, 5)), ('a', (1, 4))]"
      ]
     },
     "execution_count": 64,
     "metadata": {},
     "output_type": "execute_result"
    }
   ],
   "source": [
    "rdd1.leftOuterJoin(rdd2).collect()"
   ]
  },
  {
   "cell_type": "code",
   "execution_count": 65,
   "id": "5ae2b06a",
   "metadata": {},
   "outputs": [
    {
     "data": {
      "text/plain": [
       "[('b', (5, 2)), ('c', (6, None)), ('a', (4, 1))]"
      ]
     },
     "execution_count": 65,
     "metadata": {},
     "output_type": "execute_result"
    }
   ],
   "source": [
    "rdd2.leftOuterJoin(rdd1).collect()"
   ]
  },
  {
   "cell_type": "code",
   "execution_count": 66,
   "id": "2dced22e",
   "metadata": {},
   "outputs": [
    {
     "data": {
      "text/plain": [
       "[('b', (2, 5)), ('c', (None, 6)), ('a', (1, 4))]"
      ]
     },
     "execution_count": 66,
     "metadata": {},
     "output_type": "execute_result"
    }
   ],
   "source": [
    "rdd1.rightOuterJoin(rdd2).collect()"
   ]
  },
  {
   "cell_type": "code",
   "execution_count": 68,
   "id": "64d52910",
   "metadata": {},
   "outputs": [
    {
     "data": {
      "text/plain": [
       "[('b', (5, 2)), ('a', (4, 1))]"
      ]
     },
     "execution_count": 68,
     "metadata": {},
     "output_type": "execute_result"
    }
   ],
   "source": [
    "rdd2.rightOuterJoin(rdd1).collect()"
   ]
  },
  {
   "cell_type": "code",
   "execution_count": 69,
   "id": "327c72fe",
   "metadata": {},
   "outputs": [
    {
     "data": {
      "text/plain": [
       "[('b', (2, 5)), ('c', (None, 6)), ('a', (1, 4))]"
      ]
     },
     "execution_count": 69,
     "metadata": {},
     "output_type": "execute_result"
    }
   ],
   "source": [
    "rdd1.fullOuterJoin(rdd2).collect()"
   ]
  },
  {
   "cell_type": "code",
   "execution_count": 70,
   "id": "029a5748",
   "metadata": {},
   "outputs": [
    {
     "name": "stderr",
     "output_type": "stream",
     "text": [
      "                                                                                \r"
     ]
    },
    {
     "data": {
      "text/plain": [
       "[('b', (5, 2)), ('c', (6, None)), ('a', (4, 1))]"
      ]
     },
     "execution_count": 70,
     "metadata": {},
     "output_type": "execute_result"
    }
   ],
   "source": [
    "rdd2.leftOuterJoin(rdd1).collect()"
   ]
  },
  {
   "cell_type": "code",
   "execution_count": 71,
   "id": "3277b2ac",
   "metadata": {},
   "outputs": [],
   "source": [
    "# substractByKey()"
   ]
  },
  {
   "cell_type": "code",
   "execution_count": 74,
   "id": "994e3e2b",
   "metadata": {},
   "outputs": [
    {
     "name": "stderr",
     "output_type": "stream",
     "text": [
      "                                                                                \r"
     ]
    },
    {
     "data": {
      "text/plain": [
       "[]"
      ]
     },
     "execution_count": 74,
     "metadata": {},
     "output_type": "execute_result"
    }
   ],
   "source": [
    "rdd1.subtractByKey(rdd2).collect()"
   ]
  },
  {
   "cell_type": "code",
   "execution_count": 75,
   "id": "31250861",
   "metadata": {},
   "outputs": [
    {
     "name": "stderr",
     "output_type": "stream",
     "text": [
      "                                                                                \r"
     ]
    },
    {
     "data": {
      "text/plain": [
       "[('c', 6)]"
      ]
     },
     "execution_count": 75,
     "metadata": {},
     "output_type": "execute_result"
    }
   ],
   "source": [
    "rdd2.subtractByKey(rdd1).collect()"
   ]
  },
  {
   "cell_type": "code",
   "execution_count": 76,
   "id": "2b61ad3d",
   "metadata": {},
   "outputs": [],
   "source": [
    "# cogroup"
   ]
  },
  {
   "cell_type": "code",
   "execution_count": 77,
   "id": "436d41c9",
   "metadata": {},
   "outputs": [],
   "source": [
    "rdd3 = rdd1.cogroup(rdd2)"
   ]
  },
  {
   "cell_type": "code",
   "execution_count": 78,
   "id": "e9349de2",
   "metadata": {},
   "outputs": [
    {
     "name": "stderr",
     "output_type": "stream",
     "text": [
      "                                                                                \r"
     ]
    },
    {
     "data": {
      "text/plain": [
       "[('b',\n",
       "  (<pyspark.resultiterable.ResultIterable at 0x7f9f7a72f810>,\n",
       "   <pyspark.resultiterable.ResultIterable at 0x7f9f7a72f210>)),\n",
       " ('c',\n",
       "  (<pyspark.resultiterable.ResultIterable at 0x7f9f8c7eec50>,\n",
       "   <pyspark.resultiterable.ResultIterable at 0x7f9f7a72c3d0>)),\n",
       " ('a',\n",
       "  (<pyspark.resultiterable.ResultIterable at 0x7f9f7a74e2d0>,\n",
       "   <pyspark.resultiterable.ResultIterable at 0x7f9f8c7f60d0>))]"
      ]
     },
     "execution_count": 78,
     "metadata": {},
     "output_type": "execute_result"
    }
   ],
   "source": [
    "rdd3.collect()"
   ]
  },
  {
   "cell_type": "code",
   "execution_count": 82,
   "id": "91dbff16",
   "metadata": {},
   "outputs": [
    {
     "data": {
      "text/plain": [
       "{'b': [[2], [5]], 'c': [[], [6]], 'a': [[1], [4]]}"
      ]
     },
     "execution_count": 82,
     "metadata": {},
     "output_type": "execute_result"
    }
   ],
   "source": [
    "rdd3.mapValues(lambda v: [list(l) for l in v]).collectAsMap()"
   ]
  },
  {
   "cell_type": "code",
   "execution_count": 83,
   "id": "b634d5b1",
   "metadata": {},
   "outputs": [],
   "source": [
    "# collectAsMap"
   ]
  },
  {
   "cell_type": "code",
   "execution_count": 84,
   "id": "d7c39def",
   "metadata": {},
   "outputs": [
    {
     "data": {
      "text/plain": [
       "{'a': 1, 'b': 2}"
      ]
     },
     "execution_count": 84,
     "metadata": {},
     "output_type": "execute_result"
    }
   ],
   "source": [
    "rdd1.collectAsMap()"
   ]
  },
  {
   "cell_type": "code",
   "execution_count": 85,
   "id": "8ade5426",
   "metadata": {},
   "outputs": [],
   "source": [
    "# countByKey"
   ]
  },
  {
   "cell_type": "code",
   "execution_count": 86,
   "id": "89aac33d",
   "metadata": {},
   "outputs": [
    {
     "data": {
      "text/plain": [
       "defaultdict(int, {'a': 1, 'b': 1})"
      ]
     },
     "execution_count": 86,
     "metadata": {},
     "output_type": "execute_result"
    }
   ],
   "source": [
    "rdd1.countByKey()"
   ]
  },
  {
   "cell_type": "code",
   "execution_count": 89,
   "id": "ce5d4ce5",
   "metadata": {},
   "outputs": [],
   "source": [
    "# lookup"
   ]
  },
  {
   "cell_type": "code",
   "execution_count": 88,
   "id": "0b125be5",
   "metadata": {},
   "outputs": [
    {
     "data": {
      "text/plain": [
       "[1]"
      ]
     },
     "execution_count": 88,
     "metadata": {},
     "output_type": "execute_result"
    }
   ],
   "source": [
    "rdd1.lookup('a')"
   ]
  },
  {
   "cell_type": "code",
   "execution_count": 90,
   "id": "d9b1475f",
   "metadata": {},
   "outputs": [
    {
     "data": {
      "text/plain": [
       "[2]"
      ]
     },
     "execution_count": 90,
     "metadata": {},
     "output_type": "execute_result"
    }
   ],
   "source": [
    "rdd1.lookup('b')"
   ]
  },
  {
   "cell_type": "code",
   "execution_count": null,
   "id": "53ef717e",
   "metadata": {},
   "outputs": [],
   "source": []
  }
 ],
 "metadata": {
  "kernelspec": {
   "display_name": "Python 3 (ipykernel)",
   "language": "python",
   "name": "python3"
  },
  "language_info": {
   "codemirror_mode": {
    "name": "ipython",
    "version": 3
   },
   "file_extension": ".py",
   "mimetype": "text/x-python",
   "name": "python",
   "nbconvert_exporter": "python",
   "pygments_lexer": "ipython3",
   "version": "3.11.4"
  }
 },
 "nbformat": 4,
 "nbformat_minor": 5
}
