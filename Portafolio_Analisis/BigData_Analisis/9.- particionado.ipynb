{
 "cells": [
  {
   "cell_type": "code",
   "execution_count": 1,
   "id": "765d53b8",
   "metadata": {},
   "outputs": [
    {
     "name": "stderr",
     "output_type": "stream",
     "text": [
      "Setting default log level to \"WARN\".\n",
      "To adjust logging level use sc.setLogLevel(newLevel). For SparkR, use setLogLevel(newLevel).\n",
      "23/10/23 19:37:38 WARN NativeCodeLoader: Unable to load native-hadoop library for your platform... using builtin-java classes where applicable\n"
     ]
    }
   ],
   "source": [
    "from pyspark import SparkContext\n",
    "sc = SparkContext()"
   ]
  },
  {
   "cell_type": "code",
   "execution_count": 2,
   "id": "45aaaa40",
   "metadata": {},
   "outputs": [],
   "source": [
    "rdd = sc.parallelize([1,1,2,2,3,3,4,4],4)"
   ]
  },
  {
   "cell_type": "markdown",
   "id": "d04e0245",
   "metadata": {},
   "source": [
    "### getNumPartitions()"
   ]
  },
  {
   "cell_type": "code",
   "execution_count": 3,
   "id": "6e82cf85",
   "metadata": {},
   "outputs": [
    {
     "data": {
      "text/plain": [
       "4"
      ]
     },
     "execution_count": 3,
     "metadata": {},
     "output_type": "execute_result"
    }
   ],
   "source": [
    "rdd.getNumPartitions()"
   ]
  },
  {
   "cell_type": "code",
   "execution_count": 4,
   "id": "c1d4b757",
   "metadata": {},
   "outputs": [],
   "source": [
    "### glom"
   ]
  },
  {
   "cell_type": "code",
   "execution_count": 5,
   "id": "4fe6513b",
   "metadata": {},
   "outputs": [
    {
     "name": "stderr",
     "output_type": "stream",
     "text": [
      "                                                                                \r"
     ]
    },
    {
     "data": {
      "text/plain": [
       "[[1, 1], [2, 2], [3, 3], [4, 4]]"
      ]
     },
     "execution_count": 5,
     "metadata": {},
     "output_type": "execute_result"
    }
   ],
   "source": [
    "rdd.glom().collect()"
   ]
  },
  {
   "cell_type": "code",
   "execution_count": 6,
   "id": "69e97c19",
   "metadata": {},
   "outputs": [],
   "source": [
    "### El particionado si se hereda"
   ]
  },
  {
   "cell_type": "code",
   "execution_count": 7,
   "id": "80af43d3",
   "metadata": {},
   "outputs": [],
   "source": [
    "rdd2 = rdd.map(lambda x: x*2)"
   ]
  },
  {
   "cell_type": "code",
   "execution_count": 8,
   "id": "8e50737d",
   "metadata": {},
   "outputs": [
    {
     "name": "stderr",
     "output_type": "stream",
     "text": [
      "                                                                                \r"
     ]
    },
    {
     "data": {
      "text/plain": [
       "[[2, 2], [4, 4], [6, 6], [8, 8]]"
      ]
     },
     "execution_count": 8,
     "metadata": {},
     "output_type": "execute_result"
    }
   ],
   "source": [
    "rdd2.glom().collect()"
   ]
  },
  {
   "cell_type": "code",
   "execution_count": 9,
   "id": "c03df6b6",
   "metadata": {},
   "outputs": [],
   "source": [
    "### reduceByKey"
   ]
  },
  {
   "cell_type": "code",
   "execution_count": 10,
   "id": "e1a15e74",
   "metadata": {},
   "outputs": [],
   "source": [
    "pair_rdd = rdd.map(lambda x: (x,x))"
   ]
  },
  {
   "cell_type": "code",
   "execution_count": 11,
   "id": "95c59966",
   "metadata": {},
   "outputs": [
    {
     "data": {
      "text/plain": [
       "[[(1, 1), (1, 1)], [(2, 2), (2, 2)], [(3, 3), (3, 3)], [(4, 4), (4, 4)]]"
      ]
     },
     "execution_count": 11,
     "metadata": {},
     "output_type": "execute_result"
    }
   ],
   "source": [
    "pair_rdd.glom().collect()"
   ]
  },
  {
   "cell_type": "code",
   "execution_count": 12,
   "id": "47e9da7a",
   "metadata": {},
   "outputs": [
    {
     "name": "stderr",
     "output_type": "stream",
     "text": [
      "                                                                                \r"
     ]
    },
    {
     "data": {
      "text/plain": [
       "[[(4, 8)], [(1, 2)], [(2, 4)], [(3, 6)]]"
      ]
     },
     "execution_count": 12,
     "metadata": {},
     "output_type": "execute_result"
    }
   ],
   "source": [
    "pair_rdd.reduceByKey(lambda x,y: x+y).glom().collect()"
   ]
  },
  {
   "cell_type": "code",
   "execution_count": 13,
   "id": "ce1e28fa",
   "metadata": {},
   "outputs": [
    {
     "name": "stderr",
     "output_type": "stream",
     "text": [
      "                                                                                \r"
     ]
    },
    {
     "data": {
      "text/plain": [
       "[[(2, 4), (4, 8)], [(1, 2), (3, 6)]]"
      ]
     },
     "execution_count": 13,
     "metadata": {},
     "output_type": "execute_result"
    }
   ],
   "source": [
    "pair_rdd.reduceByKey(lambda x,y: x+y,2).glom().collect()"
   ]
  },
  {
   "cell_type": "code",
   "execution_count": 16,
   "id": "929b375e",
   "metadata": {},
   "outputs": [],
   "source": [
    "### funciones de repartición"
   ]
  },
  {
   "cell_type": "code",
   "execution_count": 20,
   "id": "144dab9f",
   "metadata": {},
   "outputs": [],
   "source": [
    "### repartition - devuelve un nuevo rdd que tiene n particiones"
   ]
  },
  {
   "cell_type": "code",
   "execution_count": 15,
   "id": "1afcd719",
   "metadata": {},
   "outputs": [],
   "source": [
    "pair_rdd6 = pair_rdd.repartition(6)"
   ]
  },
  {
   "cell_type": "code",
   "execution_count": 18,
   "id": "3c4e6191",
   "metadata": {},
   "outputs": [
    {
     "data": {
      "text/plain": [
       "6"
      ]
     },
     "execution_count": 18,
     "metadata": {},
     "output_type": "execute_result"
    }
   ],
   "source": [
    "pair_rdd6.getNumPartitions()"
   ]
  },
  {
   "cell_type": "code",
   "execution_count": 19,
   "id": "2489072e",
   "metadata": {},
   "outputs": [
    {
     "name": "stderr",
     "output_type": "stream",
     "text": [
      "                                                                                \r"
     ]
    },
    {
     "data": {
      "text/plain": [
       "[[(4, 4), (4, 4)],\n",
       " [],\n",
       " [],\n",
       " [(1, 1), (1, 1)],\n",
       " [(2, 2), (2, 2)],\n",
       " [(3, 3), (3, 3)]]"
      ]
     },
     "execution_count": 19,
     "metadata": {},
     "output_type": "execute_result"
    }
   ],
   "source": [
    "pair_rdd6.glom().collect()"
   ]
  },
  {
   "cell_type": "code",
   "execution_count": 21,
   "id": "a670fc68",
   "metadata": {},
   "outputs": [],
   "source": [
    "### coalesce - solo permite reducir el número de particiones"
   ]
  },
  {
   "cell_type": "code",
   "execution_count": 23,
   "id": "8af39b4b",
   "metadata": {},
   "outputs": [],
   "source": [
    "pair_rdd2 = pair_rdd.coalesce(2)"
   ]
  },
  {
   "cell_type": "code",
   "execution_count": 24,
   "id": "62f4cdc4",
   "metadata": {},
   "outputs": [
    {
     "name": "stderr",
     "output_type": "stream",
     "text": [
      "\r",
      "[Stage 9:=============================>                             (1 + 1) / 2]\r",
      "\r",
      "                                                                                \r"
     ]
    },
    {
     "data": {
      "text/plain": [
       "[[(1, 1), (1, 1), (2, 2), (2, 2)], [(3, 3), (3, 3), (4, 4), (4, 4)]]"
      ]
     },
     "execution_count": 24,
     "metadata": {},
     "output_type": "execute_result"
    }
   ],
   "source": [
    "pair_rdd2.glom().collect()"
   ]
  },
  {
   "cell_type": "code",
   "execution_count": 25,
   "id": "16e33d97",
   "metadata": {},
   "outputs": [],
   "source": [
    "### partitionBy - utilizando una función de partición para rdds de clave y valor"
   ]
  },
  {
   "cell_type": "code",
   "execution_count": 26,
   "id": "b2168f23",
   "metadata": {},
   "outputs": [],
   "source": [
    "pair_rdd3 = pair_rdd.partitionBy(3)"
   ]
  },
  {
   "cell_type": "code",
   "execution_count": 27,
   "id": "6adc4500",
   "metadata": {},
   "outputs": [
    {
     "name": "stderr",
     "output_type": "stream",
     "text": [
      "                                                                                \r"
     ]
    },
    {
     "data": {
      "text/plain": [
       "[[(3, 3), (3, 3)], [(1, 1), (1, 1), (4, 4), (4, 4)], [(2, 2), (2, 2)]]"
      ]
     },
     "execution_count": 27,
     "metadata": {},
     "output_type": "execute_result"
    }
   ],
   "source": [
    "pair_rdd3.glom().collect()"
   ]
  },
  {
   "cell_type": "code",
   "execution_count": null,
   "id": "2ddee270",
   "metadata": {},
   "outputs": [],
   "source": []
  }
 ],
 "metadata": {
  "kernelspec": {
   "display_name": "Python 3 (ipykernel)",
   "language": "python",
   "name": "python3"
  },
  "language_info": {
   "codemirror_mode": {
    "name": "ipython",
    "version": 3
   },
   "file_extension": ".py",
   "mimetype": "text/x-python",
   "name": "python",
   "nbconvert_exporter": "python",
   "pygments_lexer": "ipython3",
   "version": "3.11.4"
  }
 },
 "nbformat": 4,
 "nbformat_minor": 5
}
