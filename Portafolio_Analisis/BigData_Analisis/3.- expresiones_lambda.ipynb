{
 "cells": [
  {
   "cell_type": "code",
   "execution_count": 1,
   "id": "a13f3f9c",
   "metadata": {},
   "outputs": [],
   "source": [
    "def cuadrado(num):\n",
    "    return num**2"
   ]
  },
  {
   "cell_type": "code",
   "execution_count": 2,
   "id": "46ef27d7",
   "metadata": {},
   "outputs": [
    {
     "data": {
      "text/plain": [
       "9"
      ]
     },
     "execution_count": 2,
     "metadata": {},
     "output_type": "execute_result"
    }
   ],
   "source": [
    "cuadrado(3)"
   ]
  },
  {
   "cell_type": "code",
   "execution_count": 3,
   "id": "f19d655c",
   "metadata": {},
   "outputs": [
    {
     "data": {
      "text/plain": [
       "<function __main__.<lambda>(num)>"
      ]
     },
     "execution_count": 3,
     "metadata": {},
     "output_type": "execute_result"
    }
   ],
   "source": [
    "lambda num : num**2"
   ]
  },
  {
   "cell_type": "code",
   "execution_count": 4,
   "id": "6eb1aee9",
   "metadata": {},
   "outputs": [],
   "source": [
    "cuadrado = lambda num : num**2"
   ]
  },
  {
   "cell_type": "code",
   "execution_count": 5,
   "id": "625796b0",
   "metadata": {},
   "outputs": [
    {
     "data": {
      "text/plain": [
       "16"
      ]
     },
     "execution_count": 5,
     "metadata": {},
     "output_type": "execute_result"
    }
   ],
   "source": [
    "cuadrado(4)"
   ]
  },
  {
   "cell_type": "code",
   "execution_count": 6,
   "id": "a520be57",
   "metadata": {},
   "outputs": [],
   "source": [
    "par = lambda num: num%2 == 0"
   ]
  },
  {
   "cell_type": "code",
   "execution_count": 7,
   "id": "b8b120db",
   "metadata": {},
   "outputs": [
    {
     "data": {
      "text/plain": [
       "False"
      ]
     },
     "execution_count": 7,
     "metadata": {},
     "output_type": "execute_result"
    }
   ],
   "source": [
    "par(3)"
   ]
  },
  {
   "cell_type": "code",
   "execution_count": 8,
   "id": "d9e8606d",
   "metadata": {},
   "outputs": [
    {
     "data": {
      "text/plain": [
       "True"
      ]
     },
     "execution_count": 8,
     "metadata": {},
     "output_type": "execute_result"
    }
   ],
   "source": [
    "par(4)"
   ]
  },
  {
   "cell_type": "code",
   "execution_count": 9,
   "id": "2da52240",
   "metadata": {},
   "outputs": [],
   "source": [
    "primer = lambda s: s[0]"
   ]
  },
  {
   "cell_type": "code",
   "execution_count": 10,
   "id": "9feaf9b1",
   "metadata": {},
   "outputs": [
    {
     "data": {
      "text/plain": [
       "'H'"
      ]
     },
     "execution_count": 10,
     "metadata": {},
     "output_type": "execute_result"
    }
   ],
   "source": [
    "primer('Hello world!')"
   ]
  },
  {
   "cell_type": "code",
   "execution_count": 11,
   "id": "647a49c8",
   "metadata": {},
   "outputs": [],
   "source": [
    "ultimo = lambda s: s[-1]"
   ]
  },
  {
   "cell_type": "code",
   "execution_count": 12,
   "id": "293ab209",
   "metadata": {},
   "outputs": [
    {
     "data": {
      "text/plain": [
       "'!'"
      ]
     },
     "execution_count": 12,
     "metadata": {},
     "output_type": "execute_result"
    }
   ],
   "source": [
    "ultimo('Hello World!')"
   ]
  },
  {
   "cell_type": "code",
   "execution_count": 13,
   "id": "1ea37459",
   "metadata": {},
   "outputs": [],
   "source": [
    "suma = lambda x, y: x+y"
   ]
  },
  {
   "cell_type": "code",
   "execution_count": 14,
   "id": "2594e5de",
   "metadata": {},
   "outputs": [
    {
     "data": {
      "text/plain": [
       "3"
      ]
     },
     "execution_count": 14,
     "metadata": {},
     "output_type": "execute_result"
    }
   ],
   "source": [
    "suma(1,2)"
   ]
  },
  {
   "cell_type": "code",
   "execution_count": null,
   "id": "4f0c340c",
   "metadata": {},
   "outputs": [],
   "source": []
  }
 ],
 "metadata": {
  "kernelspec": {
   "display_name": "Python 3 (ipykernel)",
   "language": "python",
   "name": "python3"
  },
  "language_info": {
   "codemirror_mode": {
    "name": "ipython",
    "version": 3
   },
   "file_extension": ".py",
   "mimetype": "text/x-python",
   "name": "python",
   "nbconvert_exporter": "python",
   "pygments_lexer": "ipython3",
   "version": "3.11.4"
  }
 },
 "nbformat": 4,
 "nbformat_minor": 5
}
