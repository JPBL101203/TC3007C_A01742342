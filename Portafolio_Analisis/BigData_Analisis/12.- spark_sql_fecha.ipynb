{
 "cells": [
  {
   "cell_type": "code",
   "execution_count": 1,
   "id": "147058a8",
   "metadata": {},
   "outputs": [],
   "source": [
    "from pyspark.sql import SparkSession"
   ]
  },
  {
   "cell_type": "code",
   "execution_count": 2,
   "id": "09a2c9a5",
   "metadata": {},
   "outputs": [],
   "source": [
    "from pyspark.sql.functions import dayofmonth, hour, dayofyear, year, weekofyear, format_number, date_format"
   ]
  },
  {
   "cell_type": "code",
   "execution_count": 3,
   "id": "60d7c6f3",
   "metadata": {},
   "outputs": [
    {
     "name": "stderr",
     "output_type": "stream",
     "text": [
      "23/10/24 03:03:30 WARN Utils: Your hostname, ubuntu-s-1vcpu-2gb-sfo3-01 resolves to a loopback address: 127.0.1.1; using 10.48.0.5 instead (on interface eth0)\n",
      "23/10/24 03:03:30 WARN Utils: Set SPARK_LOCAL_IP if you need to bind to another address\n",
      "Setting default log level to \"WARN\".\n",
      "To adjust logging level use sc.setLogLevel(newLevel). For SparkR, use setLogLevel(newLevel).\n",
      "23/10/24 03:03:31 WARN NativeCodeLoader: Unable to load native-hadoop library for your platform... using builtin-java classes where applicable\n"
     ]
    }
   ],
   "source": [
    "spark = SparkSession.builder.appName('fechas').getOrCreate()"
   ]
  },
  {
   "cell_type": "code",
   "execution_count": 4,
   "id": "d68fff19",
   "metadata": {},
   "outputs": [
    {
     "name": "stderr",
     "output_type": "stream",
     "text": [
      "                                                                                \r"
     ]
    }
   ],
   "source": [
    "df = spark.read.csv('AAPL.csv', inferSchema = True, header = True)"
   ]
  },
  {
   "cell_type": "code",
   "execution_count": 5,
   "id": "08d4111d",
   "metadata": {},
   "outputs": [
    {
     "data": {
      "text/plain": [
       "[Row(Date=datetime.date(2010, 1, 4), Open=30.49, High=30.642857, Low=30.34, Close=30.572857, Adj Close=26.466835, Volume=123432400)]"
      ]
     },
     "execution_count": 5,
     "metadata": {},
     "output_type": "execute_result"
    }
   ],
   "source": [
    "df.head(1)"
   ]
  },
  {
   "cell_type": "code",
   "execution_count": 6,
   "id": "0a46b9c7",
   "metadata": {},
   "outputs": [
    {
     "name": "stdout",
     "output_type": "stream",
     "text": [
      "+----------+---------+---------+---------+---------+---------+---------+\n",
      "|      Date|     Open|     High|      Low|    Close|Adj Close|   Volume|\n",
      "+----------+---------+---------+---------+---------+---------+---------+\n",
      "|2010-01-04|    30.49|30.642857|    30.34|30.572857|26.466835|123432400|\n",
      "|2010-01-05|30.657143|30.798571|30.464285|30.625713|26.512596|150476200|\n",
      "|2010-01-06|30.625713|30.747143|30.107143|30.138571|26.090879|138040000|\n",
      "|2010-01-07|    30.25|30.285715|29.864286|30.082857|26.042646|119282800|\n",
      "|2010-01-08|30.042856|30.285715|29.865715|30.282858|26.215786|111902700|\n",
      "|2010-01-11|     30.4|30.428572|29.778572|30.015715|25.984528|115557400|\n",
      "|2010-01-12|29.884285|29.967142|29.488571|29.674286|25.688946|148614900|\n",
      "|2010-01-13|29.695715|30.132856|29.157143|30.092857|26.051304|151473000|\n",
      "|2010-01-14|30.015715|30.065714|29.860001|29.918571|25.900436|108223500|\n",
      "|2010-01-15|30.132856|30.228571|    29.41|29.418571|25.467583|148516900|\n",
      "|2010-01-19|29.761429|30.741428|29.605715|30.719999|26.594227|182501900|\n",
      "|2010-01-20|30.701429|30.792856|29.928572|30.247143| 26.18487|153038200|\n",
      "|2010-01-21|30.297142|30.472857|29.601429|29.724285|25.732233|152038600|\n",
      "|2010-01-22|29.540001|29.642857|28.165714|    28.25|24.455948|220441900|\n",
      "|2010-01-25|    28.93|29.242857|28.598572|    29.01|25.113882|266424900|\n",
      "|2010-01-26|29.421429|30.530001|28.940001|    29.42|25.468813|466777500|\n",
      "|2010-01-27|29.549999|30.082857|28.504286|29.697144|25.708735|430642100|\n",
      "|2010-01-28|29.275715|29.357143|28.385714|28.469999|24.646406|293375600|\n",
      "|2010-01-29|28.725714|28.885714|27.178572|27.437143| 23.75227|311488100|\n",
      "|2010-02-01|27.481428|     28.0|27.328571|27.818571|24.082464|187469100|\n",
      "+----------+---------+---------+---------+---------+---------+---------+\n",
      "only showing top 20 rows\n",
      "\n"
     ]
    }
   ],
   "source": [
    "df.show()"
   ]
  },
  {
   "cell_type": "code",
   "execution_count": 7,
   "id": "2c9f6034",
   "metadata": {},
   "outputs": [
    {
     "name": "stdout",
     "output_type": "stream",
     "text": [
      "+----------------+\n",
      "|dayofmonth(Date)|\n",
      "+----------------+\n",
      "|               4|\n",
      "|               5|\n",
      "|               6|\n",
      "|               7|\n",
      "|               8|\n",
      "|              11|\n",
      "|              12|\n",
      "|              13|\n",
      "|              14|\n",
      "|              15|\n",
      "|              19|\n",
      "|              20|\n",
      "|              21|\n",
      "|              22|\n",
      "|              25|\n",
      "|              26|\n",
      "|              27|\n",
      "|              28|\n",
      "|              29|\n",
      "|               1|\n",
      "+----------------+\n",
      "only showing top 20 rows\n",
      "\n"
     ]
    }
   ],
   "source": [
    "df.select(dayofmonth(df['Date'])).show()"
   ]
  },
  {
   "cell_type": "code",
   "execution_count": 8,
   "id": "18663c63",
   "metadata": {},
   "outputs": [
    {
     "name": "stdout",
     "output_type": "stream",
     "text": [
      "+---------------+\n",
      "|dayofyear(Date)|\n",
      "+---------------+\n",
      "|              4|\n",
      "|              5|\n",
      "|              6|\n",
      "|              7|\n",
      "|              8|\n",
      "|             11|\n",
      "|             12|\n",
      "|             13|\n",
      "|             14|\n",
      "|             15|\n",
      "|             19|\n",
      "|             20|\n",
      "|             21|\n",
      "|             22|\n",
      "|             25|\n",
      "|             26|\n",
      "|             27|\n",
      "|             28|\n",
      "|             29|\n",
      "|             32|\n",
      "+---------------+\n",
      "only showing top 20 rows\n",
      "\n"
     ]
    }
   ],
   "source": [
    "df.select(dayofyear(df['Date'])).show()"
   ]
  },
  {
   "cell_type": "code",
   "execution_count": 9,
   "id": "0163a6bf",
   "metadata": {},
   "outputs": [
    {
     "name": "stdout",
     "output_type": "stream",
     "text": [
      "+----------+\n",
      "|year(Date)|\n",
      "+----------+\n",
      "|      2010|\n",
      "|      2010|\n",
      "|      2010|\n",
      "|      2010|\n",
      "|      2010|\n",
      "|      2010|\n",
      "|      2010|\n",
      "|      2010|\n",
      "|      2010|\n",
      "|      2010|\n",
      "|      2010|\n",
      "|      2010|\n",
      "|      2010|\n",
      "|      2010|\n",
      "|      2010|\n",
      "|      2010|\n",
      "|      2010|\n",
      "|      2010|\n",
      "|      2010|\n",
      "|      2010|\n",
      "+----------+\n",
      "only showing top 20 rows\n",
      "\n"
     ]
    }
   ],
   "source": [
    "df.select(year(df['Date'])).show()"
   ]
  },
  {
   "cell_type": "markdown",
   "id": "8bdb9837",
   "metadata": {},
   "source": [
    "### ejercicio"
   ]
  },
  {
   "cell_type": "code",
   "execution_count": 12,
   "id": "547543e0",
   "metadata": {},
   "outputs": [],
   "source": [
    "df_year = df.withColumn('Year', year(df['Date']))"
   ]
  },
  {
   "cell_type": "code",
   "execution_count": 13,
   "id": "13dd3d36",
   "metadata": {},
   "outputs": [
    {
     "name": "stdout",
     "output_type": "stream",
     "text": [
      "+----------+---------+---------+---------+---------+---------+---------+----+\n",
      "|      Date|     Open|     High|      Low|    Close|Adj Close|   Volume|Year|\n",
      "+----------+---------+---------+---------+---------+---------+---------+----+\n",
      "|2010-01-04|    30.49|30.642857|    30.34|30.572857|26.466835|123432400|2010|\n",
      "|2010-01-05|30.657143|30.798571|30.464285|30.625713|26.512596|150476200|2010|\n",
      "|2010-01-06|30.625713|30.747143|30.107143|30.138571|26.090879|138040000|2010|\n",
      "|2010-01-07|    30.25|30.285715|29.864286|30.082857|26.042646|119282800|2010|\n",
      "|2010-01-08|30.042856|30.285715|29.865715|30.282858|26.215786|111902700|2010|\n",
      "|2010-01-11|     30.4|30.428572|29.778572|30.015715|25.984528|115557400|2010|\n",
      "|2010-01-12|29.884285|29.967142|29.488571|29.674286|25.688946|148614900|2010|\n",
      "|2010-01-13|29.695715|30.132856|29.157143|30.092857|26.051304|151473000|2010|\n",
      "|2010-01-14|30.015715|30.065714|29.860001|29.918571|25.900436|108223500|2010|\n",
      "|2010-01-15|30.132856|30.228571|    29.41|29.418571|25.467583|148516900|2010|\n",
      "|2010-01-19|29.761429|30.741428|29.605715|30.719999|26.594227|182501900|2010|\n",
      "|2010-01-20|30.701429|30.792856|29.928572|30.247143| 26.18487|153038200|2010|\n",
      "|2010-01-21|30.297142|30.472857|29.601429|29.724285|25.732233|152038600|2010|\n",
      "|2010-01-22|29.540001|29.642857|28.165714|    28.25|24.455948|220441900|2010|\n",
      "|2010-01-25|    28.93|29.242857|28.598572|    29.01|25.113882|266424900|2010|\n",
      "|2010-01-26|29.421429|30.530001|28.940001|    29.42|25.468813|466777500|2010|\n",
      "|2010-01-27|29.549999|30.082857|28.504286|29.697144|25.708735|430642100|2010|\n",
      "|2010-01-28|29.275715|29.357143|28.385714|28.469999|24.646406|293375600|2010|\n",
      "|2010-01-29|28.725714|28.885714|27.178572|27.437143| 23.75227|311488100|2010|\n",
      "|2010-02-01|27.481428|     28.0|27.328571|27.818571|24.082464|187469100|2010|\n",
      "+----------+---------+---------+---------+---------+---------+---------+----+\n",
      "only showing top 20 rows\n",
      "\n"
     ]
    }
   ],
   "source": [
    "df_year.show()"
   ]
  },
  {
   "cell_type": "code",
   "execution_count": 18,
   "id": "92134d82",
   "metadata": {},
   "outputs": [
    {
     "data": {
      "text/plain": [
       "['Year',\n",
       " 'avg(Open)',\n",
       " 'avg(High)',\n",
       " 'avg(Low)',\n",
       " 'avg(Close)',\n",
       " 'avg(Adj Close)',\n",
       " 'avg(Volume)',\n",
       " 'avg(Year)']"
      ]
     },
     "execution_count": 18,
     "metadata": {},
     "output_type": "execute_result"
    }
   ],
   "source": [
    "df_year.groupBy('Year').mean().columns"
   ]
  },
  {
   "cell_type": "code",
   "execution_count": 19,
   "id": "d6d88f0b",
   "metadata": {},
   "outputs": [],
   "source": [
    "resultado = df_year.groupBy('Year').mean().select(['Year', 'avg(Open)'])"
   ]
  },
  {
   "cell_type": "code",
   "execution_count": 20,
   "id": "b459376c",
   "metadata": {},
   "outputs": [
    {
     "name": "stdout",
     "output_type": "stream",
     "text": [
      "+----+------------------+\n",
      "|Year|         avg(Open)|\n",
      "+----+------------------+\n",
      "|2018|189.11143456573691|\n",
      "|2015|120.17575393253965|\n",
      "|2013| 67.58973367460315|\n",
      "|2014| 92.21983011507933|\n",
      "|2019|207.86908675793657|\n",
      "|2020|300.64314603225813|\n",
      "|2012| 82.37896010000001|\n",
      "|2016|104.50777772619044|\n",
      "|2010| 37.13680271825399|\n",
      "|2011|52.008775376984104|\n",
      "|2017|150.44490045816727|\n",
      "+----+------------------+\n",
      "\n"
     ]
    }
   ],
   "source": [
    "resultado.show()"
   ]
  },
  {
   "cell_type": "code",
   "execution_count": 21,
   "id": "fb83e429",
   "metadata": {},
   "outputs": [
    {
     "name": "stdout",
     "output_type": "stream",
     "text": [
      "+----+-------------+\n",
      "|Year|Media de Open|\n",
      "+----+-------------+\n",
      "|2010|        37.14|\n",
      "|2011|        52.01|\n",
      "|2012|        82.38|\n",
      "|2013|        67.59|\n",
      "|2014|        92.22|\n",
      "|2015|       120.18|\n",
      "|2016|       104.51|\n",
      "|2017|       150.44|\n",
      "|2018|       189.11|\n",
      "|2019|       207.87|\n",
      "|2020|       300.64|\n",
      "+----+-------------+\n",
      "\n"
     ]
    }
   ],
   "source": [
    "resultado.select('Year', format_number('avg(Open)',2).alias('Media de Open')).orderBy(resultado['Year']).show()"
   ]
  },
  {
   "cell_type": "code",
   "execution_count": null,
   "id": "3d0819e3",
   "metadata": {},
   "outputs": [],
   "source": []
  }
 ],
 "metadata": {
  "kernelspec": {
   "display_name": "Python 3 (ipykernel)",
   "language": "python",
   "name": "python3"
  },
  "language_info": {
   "codemirror_mode": {
    "name": "ipython",
    "version": 3
   },
   "file_extension": ".py",
   "mimetype": "text/x-python",
   "name": "python",
   "nbconvert_exporter": "python",
   "pygments_lexer": "ipython3",
   "version": "3.11.4"
  }
 },
 "nbformat": 4,
 "nbformat_minor": 5
}
