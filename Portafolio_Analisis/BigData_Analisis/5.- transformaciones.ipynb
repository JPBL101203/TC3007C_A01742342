{
 "cells": [
  {
   "cell_type": "code",
   "execution_count": 2,
   "id": "1c7f2bc9",
   "metadata": {},
   "outputs": [
    {
     "name": "stderr",
     "output_type": "stream",
     "text": [
      "Setting default log level to \"WARN\".\n",
      "To adjust logging level use sc.setLogLevel(newLevel). For SparkR, use setLogLevel(newLevel).\n",
      "23/10/09 22:18:24 WARN NativeCodeLoader: Unable to load native-hadoop library for your platform... using builtin-java classes where applicable\n"
     ]
    }
   ],
   "source": [
    "from pyspark import SparkContext\n",
    "sc = SparkContext()"
   ]
  },
  {
   "cell_type": "code",
   "execution_count": 2,
   "id": "e51abed3",
   "metadata": {},
   "outputs": [],
   "source": [
    "lista = [1,2,3,4,5]"
   ]
  },
  {
   "cell_type": "code",
   "execution_count": 5,
   "id": "4b01a895",
   "metadata": {},
   "outputs": [],
   "source": [
    "rdd = sc.parallelize(lista)"
   ]
  },
  {
   "cell_type": "code",
   "execution_count": 7,
   "id": "7a43b8c2",
   "metadata": {},
   "outputs": [
    {
     "data": {
      "text/plain": [
       "[1, 2, 3, 4, 5]"
      ]
     },
     "execution_count": 7,
     "metadata": {},
     "output_type": "execute_result"
    }
   ],
   "source": [
    "rdd.collect()"
   ]
  },
  {
   "cell_type": "markdown",
   "id": "53530c48",
   "metadata": {},
   "source": [
    "filter"
   ]
  },
  {
   "cell_type": "code",
   "execution_count": 8,
   "id": "13f4d08f",
   "metadata": {},
   "outputs": [],
   "source": [
    "filtrado_rdd = rdd.filter(lambda x: x >1)"
   ]
  },
  {
   "cell_type": "code",
   "execution_count": 10,
   "id": "76008e86",
   "metadata": {},
   "outputs": [
    {
     "data": {
      "text/plain": [
       "[2, 3, 4, 5]"
      ]
     },
     "execution_count": 10,
     "metadata": {},
     "output_type": "execute_result"
    }
   ],
   "source": [
    "filtrado_rdd.collect()"
   ]
  },
  {
   "cell_type": "markdown",
   "id": "fb5c088c",
   "metadata": {},
   "source": [
    "map"
   ]
  },
  {
   "cell_type": "code",
   "execution_count": 13,
   "id": "c382158f",
   "metadata": {},
   "outputs": [],
   "source": [
    "def suma1(x):\n",
    "    return x+1"
   ]
  },
  {
   "cell_type": "code",
   "execution_count": 14,
   "id": "a1bcf4d4",
   "metadata": {},
   "outputs": [],
   "source": [
    "filtrado_suma_rdd = filtrado_rdd.map(suma1)"
   ]
  },
  {
   "cell_type": "code",
   "execution_count": 15,
   "id": "c0b62bed",
   "metadata": {},
   "outputs": [
    {
     "data": {
      "text/plain": [
       "[3, 4, 5, 6]"
      ]
     },
     "execution_count": 15,
     "metadata": {},
     "output_type": "execute_result"
    }
   ],
   "source": [
    "filtrado_suma_rdd.collect()"
   ]
  },
  {
   "cell_type": "code",
   "execution_count": 17,
   "id": "54dce64b",
   "metadata": {},
   "outputs": [],
   "source": [
    "cuadrado_rdd = (filtrado_rdd\n",
    "               .map(suma1)\n",
    "               .map(lambda x: (x, x**2)))"
   ]
  },
  {
   "cell_type": "code",
   "execution_count": 18,
   "id": "810ca8c0",
   "metadata": {},
   "outputs": [
    {
     "data": {
      "text/plain": [
       "[(3, 9), (4, 16), (5, 25), (6, 36)]"
      ]
     },
     "execution_count": 18,
     "metadata": {},
     "output_type": "execute_result"
    }
   ],
   "source": [
    "cuadrado_rdd.collect()"
   ]
  },
  {
   "cell_type": "markdown",
   "id": "af826914",
   "metadata": {},
   "source": [
    "flatMap"
   ]
  },
  {
   "cell_type": "code",
   "execution_count": 20,
   "id": "461812a2",
   "metadata": {},
   "outputs": [],
   "source": [
    "cuadrado_rdd = (filtrado_rdd\n",
    "               .map(suma1)\n",
    "               .flatMap(lambda x: (x, x**2)))"
   ]
  },
  {
   "cell_type": "code",
   "execution_count": 21,
   "id": "fa0645fe",
   "metadata": {},
   "outputs": [
    {
     "data": {
      "text/plain": [
       "[3, 9, 4, 16, 5, 25, 6, 36]"
      ]
     },
     "execution_count": 21,
     "metadata": {},
     "output_type": "execute_result"
    }
   ],
   "source": [
    "cuadrado_rdd.collect()"
   ]
  },
  {
   "cell_type": "markdown",
   "id": "92a51ba3",
   "metadata": {},
   "source": [
    "sample(withReplace, fraction, seed)"
   ]
  },
  {
   "cell_type": "code",
   "execution_count": 24,
   "id": "24f7b96d",
   "metadata": {},
   "outputs": [
    {
     "data": {
      "text/plain": [
       "[3, 9, 4, 16, 5, 25, 6, 36]"
      ]
     },
     "execution_count": 24,
     "metadata": {},
     "output_type": "execute_result"
    }
   ],
   "source": [
    "cuadrado_rdd.sample(False, 1).collect()"
   ]
  },
  {
   "cell_type": "code",
   "execution_count": 27,
   "id": "2f2dc007",
   "metadata": {},
   "outputs": [
    {
     "data": {
      "text/plain": [
       "[3, 4, 16, 5, 6, 36]"
      ]
     },
     "execution_count": 27,
     "metadata": {},
     "output_type": "execute_result"
    }
   ],
   "source": [
    "cuadrado_rdd.sample(False, 0.5).collect()"
   ]
  },
  {
   "cell_type": "code",
   "execution_count": 28,
   "id": "767d62b8",
   "metadata": {},
   "outputs": [
    {
     "data": {
      "text/plain": [
       "[3, 3, 9, 4, 4]"
      ]
     },
     "execution_count": 28,
     "metadata": {},
     "output_type": "execute_result"
    }
   ],
   "source": [
    "cuadrado_rdd.sample(True, 1).collect()"
   ]
  },
  {
   "cell_type": "code",
   "execution_count": 29,
   "id": "bd4ee7ac",
   "metadata": {},
   "outputs": [
    {
     "data": {
      "text/plain": [
       "[3, 3, 3, 3, 3, 9, 9, 9, 4, 16, 5, 5, 5, 5, 5, 6, 36, 36]"
      ]
     },
     "execution_count": 29,
     "metadata": {},
     "output_type": "execute_result"
    }
   ],
   "source": [
    "cuadrado_rdd.sample(True, 3).collect()"
   ]
  },
  {
   "cell_type": "markdown",
   "id": "4734e9d3",
   "metadata": {},
   "source": [
    "disctinct"
   ]
  },
  {
   "cell_type": "code",
   "execution_count": 30,
   "id": "db749348",
   "metadata": {},
   "outputs": [],
   "source": [
    "lista = [1,1,2,2,3,3,4,4,5,5]"
   ]
  },
  {
   "cell_type": "code",
   "execution_count": 35,
   "id": "7f4ca013",
   "metadata": {},
   "outputs": [],
   "source": [
    "rdd = sc.parallelize(lista)"
   ]
  },
  {
   "cell_type": "raw",
   "id": "6cdebef4",
   "metadata": {},
   "source": [
    "rdd.collect()"
   ]
  },
  {
   "cell_type": "code",
   "execution_count": 38,
   "id": "41dcc3ee",
   "metadata": {},
   "outputs": [
    {
     "data": {
      "text/plain": [
       "[1, 2, 3, 4, 5]"
      ]
     },
     "execution_count": 38,
     "metadata": {},
     "output_type": "execute_result"
    }
   ],
   "source": [
    "rdd.distinct().collect()"
   ]
  },
  {
   "cell_type": "markdown",
   "id": "fbcd7959",
   "metadata": {},
   "source": [
    "groupBy"
   ]
  },
  {
   "cell_type": "code",
   "execution_count": 40,
   "id": "027e6606",
   "metadata": {},
   "outputs": [],
   "source": [
    "agrupado_rdd = rdd.groupBy(lambda x: x>1)"
   ]
  },
  {
   "cell_type": "code",
   "execution_count": 41,
   "id": "1518ee8a",
   "metadata": {},
   "outputs": [
    {
     "data": {
      "text/plain": [
       "[(False, <pyspark.resultiterable.ResultIterable at 0x7f0dd119dd10>),\n",
       " (True, <pyspark.resultiterable.ResultIterable at 0x7f0dd0a1ab50>)]"
      ]
     },
     "execution_count": 41,
     "metadata": {},
     "output_type": "execute_result"
    }
   ],
   "source": [
    "agrupado_rdd.collect()"
   ]
  },
  {
   "cell_type": "code",
   "execution_count": 42,
   "id": "abe7d613",
   "metadata": {},
   "outputs": [
    {
     "name": "stdout",
     "output_type": "stream",
     "text": [
      "[(False, [1, 1]), (True, [2, 2, 3, 3, 4, 4, 5, 5])]\n"
     ]
    }
   ],
   "source": [
    "print([(x, sorted(y)) for(x,y) in agrupado_rdd.collect()])"
   ]
  },
  {
   "cell_type": "markdown",
   "id": "48055655",
   "metadata": {},
   "source": [
    "transformaciones 2 rdd"
   ]
  },
  {
   "cell_type": "markdown",
   "id": "9fe570a8",
   "metadata": {},
   "source": [
    "rdda.union(rddb)"
   ]
  },
  {
   "cell_type": "code",
   "execution_count": 44,
   "id": "27340dbf",
   "metadata": {},
   "outputs": [],
   "source": [
    "rdda = sc.parallelize([1,2,3])"
   ]
  },
  {
   "cell_type": "code",
   "execution_count": 45,
   "id": "f696d0ea",
   "metadata": {},
   "outputs": [],
   "source": [
    "rddb = sc.parallelize([4,5,6])"
   ]
  },
  {
   "cell_type": "code",
   "execution_count": 46,
   "id": "3cefb142",
   "metadata": {},
   "outputs": [],
   "source": [
    "rddu = rdda.union(rddb)"
   ]
  },
  {
   "cell_type": "code",
   "execution_count": 47,
   "id": "c1edddd6",
   "metadata": {},
   "outputs": [
    {
     "data": {
      "text/plain": [
       "[1, 2, 3, 4, 5, 6]"
      ]
     },
     "execution_count": 47,
     "metadata": {},
     "output_type": "execute_result"
    }
   ],
   "source": [
    "rddu.collect()"
   ]
  },
  {
   "cell_type": "markdown",
   "id": "baed3f2f",
   "metadata": {},
   "source": [
    "rdda.intersection(rddb)"
   ]
  },
  {
   "cell_type": "code",
   "execution_count": 3,
   "id": "71a86cfc",
   "metadata": {},
   "outputs": [],
   "source": [
    "rdda = sc.parallelize([1,2,3,4])"
   ]
  },
  {
   "cell_type": "code",
   "execution_count": 4,
   "id": "fc9194c0",
   "metadata": {},
   "outputs": [],
   "source": [
    "rddb = sc.parallelize([3,4,5,6])"
   ]
  },
  {
   "cell_type": "code",
   "execution_count": 4,
   "id": "bbee7fe1",
   "metadata": {},
   "outputs": [],
   "source": [
    "rddi = rdda.intersection(rddb)"
   ]
  },
  {
   "cell_type": "code",
   "execution_count": 6,
   "id": "e0f33960",
   "metadata": {},
   "outputs": [
    {
     "data": {
      "text/plain": [
       "[4, 3]"
      ]
     },
     "execution_count": 6,
     "metadata": {},
     "output_type": "execute_result"
    }
   ],
   "source": [
    "rddi.collect()"
   ]
  },
  {
   "cell_type": "markdown",
   "id": "e0dd23f1",
   "metadata": {},
   "source": [
    "rdda.substact(rddb)"
   ]
  },
  {
   "cell_type": "code",
   "execution_count": 9,
   "id": "44cebd2c",
   "metadata": {},
   "outputs": [],
   "source": [
    "rdds = rdda.subtract(rddb)"
   ]
  },
  {
   "cell_type": "code",
   "execution_count": 11,
   "id": "8568195b",
   "metadata": {},
   "outputs": [
    {
     "data": {
      "text/plain": [
       "[2, 1]"
      ]
     },
     "execution_count": 11,
     "metadata": {},
     "output_type": "execute_result"
    }
   ],
   "source": [
    "rdds.collect()"
   ]
  },
  {
   "cell_type": "code",
   "execution_count": 12,
   "id": "1d2edbbc",
   "metadata": {},
   "outputs": [],
   "source": [
    "rdds = rddb.subtract(rdda)"
   ]
  },
  {
   "cell_type": "code",
   "execution_count": 14,
   "id": "ed339bc5",
   "metadata": {},
   "outputs": [
    {
     "data": {
      "text/plain": [
       "[6, 5]"
      ]
     },
     "execution_count": 14,
     "metadata": {},
     "output_type": "execute_result"
    }
   ],
   "source": [
    "rdds.collect()"
   ]
  },
  {
   "cell_type": "markdown",
   "id": "cbba7402",
   "metadata": {},
   "source": [
    "rdda.cartesian(rddb)"
   ]
  },
  {
   "cell_type": "code",
   "execution_count": 8,
   "id": "d4cc124c",
   "metadata": {},
   "outputs": [],
   "source": [
    "rddc = rdda.cartesian(rddb)"
   ]
  },
  {
   "cell_type": "code",
   "execution_count": 9,
   "id": "1df9b9e7",
   "metadata": {},
   "outputs": [
    {
     "data": {
      "text/plain": [
       "[(1, 3),\n",
       " (1, 4),\n",
       " (1, 5),\n",
       " (1, 6),\n",
       " (2, 3),\n",
       " (2, 4),\n",
       " (2, 5),\n",
       " (2, 6),\n",
       " (3, 3),\n",
       " (3, 4),\n",
       " (3, 5),\n",
       " (3, 6),\n",
       " (4, 3),\n",
       " (4, 4),\n",
       " (4, 5),\n",
       " (4, 6)]"
      ]
     },
     "execution_count": 9,
     "metadata": {},
     "output_type": "execute_result"
    }
   ],
   "source": [
    "rddc.collect()"
   ]
  },
  {
   "cell_type": "code",
   "execution_count": null,
   "id": "51c31be3",
   "metadata": {},
   "outputs": [],
   "source": []
  }
 ],
 "metadata": {
  "kernelspec": {
   "display_name": "Python 3 (ipykernel)",
   "language": "python",
   "name": "python3"
  },
  "language_info": {
   "codemirror_mode": {
    "name": "ipython",
    "version": 3
   },
   "file_extension": ".py",
   "mimetype": "text/x-python",
   "name": "python",
   "nbconvert_exporter": "python",
   "pygments_lexer": "ipython3",
   "version": "3.11.4"
  }
 },
 "nbformat": 4,
 "nbformat_minor": 5
}
