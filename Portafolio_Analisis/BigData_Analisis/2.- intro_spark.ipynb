{
 "cells": [
  {
   "cell_type": "code",
   "execution_count": 1,
   "id": "c661df28",
   "metadata": {},
   "outputs": [
    {
     "name": "stderr",
     "output_type": "stream",
     "text": [
      "Setting default log level to \"WARN\".\n",
      "To adjust logging level use sc.setLogLevel(newLevel). For SparkR, use setLogLevel(newLevel).\n",
      "23/10/08 18:29:31 WARN NativeCodeLoader: Unable to load native-hadoop library for your platform... using builtin-java classes where applicable\n"
     ]
    }
   ],
   "source": [
    "from pyspark import SparkContext\n",
    "sc = SparkContext()"
   ]
  },
  {
   "cell_type": "code",
   "execution_count": 2,
   "id": "d538e699",
   "metadata": {},
   "outputs": [
    {
     "name": "stdout",
     "output_type": "stream",
     "text": [
      "Writing ejemplo.txt\n"
     ]
    }
   ],
   "source": [
    "%%writefile ejemplo.txt\n",
    "primera linea\n",
    "segunda linea\n",
    "tercera linea\n",
    "cuarta linea"
   ]
  },
  {
   "cell_type": "code",
   "execution_count": 3,
   "id": "611c56cd",
   "metadata": {},
   "outputs": [],
   "source": [
    "textFile = sc.textFile('ejemplo.txt')"
   ]
  },
  {
   "cell_type": "code",
   "execution_count": 4,
   "id": "ce694dff",
   "metadata": {},
   "outputs": [
    {
     "data": {
      "text/plain": [
       "ejemplo.txt MapPartitionsRDD[1] at textFile at NativeMethodAccessorImpl.java:0"
      ]
     },
     "execution_count": 4,
     "metadata": {},
     "output_type": "execute_result"
    }
   ],
   "source": [
    "textFile"
   ]
  },
  {
   "cell_type": "markdown",
   "id": "bb30869e",
   "metadata": {},
   "source": [
    "Acciones"
   ]
  },
  {
   "cell_type": "code",
   "execution_count": 6,
   "id": "ae1742c0",
   "metadata": {},
   "outputs": [
    {
     "data": {
      "text/plain": [
       "['primera linea', 'segunda linea', 'tercera linea', 'cuarta linea']"
      ]
     },
     "execution_count": 6,
     "metadata": {},
     "output_type": "execute_result"
    }
   ],
   "source": [
    "textFile.collect()"
   ]
  },
  {
   "cell_type": "code",
   "execution_count": 8,
   "id": "acc1722b",
   "metadata": {},
   "outputs": [
    {
     "data": {
      "text/plain": [
       "4"
      ]
     },
     "execution_count": 8,
     "metadata": {},
     "output_type": "execute_result"
    }
   ],
   "source": [
    "textFile.count()"
   ]
  },
  {
   "cell_type": "code",
   "execution_count": 9,
   "id": "d46ab7a7",
   "metadata": {},
   "outputs": [
    {
     "data": {
      "text/plain": [
       "'primera linea'"
      ]
     },
     "execution_count": 9,
     "metadata": {},
     "output_type": "execute_result"
    }
   ],
   "source": [
    "textFile.first()"
   ]
  },
  {
   "cell_type": "markdown",
   "id": "21919bc2",
   "metadata": {},
   "source": [
    "Transformaciones"
   ]
  },
  {
   "cell_type": "code",
   "execution_count": 11,
   "id": "b9263f81",
   "metadata": {},
   "outputs": [],
   "source": [
    "segunda = textFile.filter(lambda linea: 'segunda' in linea)"
   ]
  },
  {
   "cell_type": "code",
   "execution_count": 12,
   "id": "1fac492f",
   "metadata": {},
   "outputs": [
    {
     "data": {
      "text/plain": [
       "PythonRDD[5] at RDD at PythonRDD.scala:53"
      ]
     },
     "execution_count": 12,
     "metadata": {},
     "output_type": "execute_result"
    }
   ],
   "source": [
    "segunda"
   ]
  },
  {
   "cell_type": "code",
   "execution_count": 13,
   "id": "9959356e",
   "metadata": {},
   "outputs": [
    {
     "data": {
      "text/plain": [
       "['segunda linea']"
      ]
     },
     "execution_count": 13,
     "metadata": {},
     "output_type": "execute_result"
    }
   ],
   "source": [
    "segunda.collect()"
   ]
  },
  {
   "cell_type": "code",
   "execution_count": null,
   "id": "d0656119",
   "metadata": {},
   "outputs": [],
   "source": []
  }
 ],
 "metadata": {
  "kernelspec": {
   "display_name": "Python 3 (ipykernel)",
   "language": "python",
   "name": "python3"
  },
  "language_info": {
   "codemirror_mode": {
    "name": "ipython",
    "version": 3
   },
   "file_extension": ".py",
   "mimetype": "text/x-python",
   "name": "python",
   "nbconvert_exporter": "python",
   "pygments_lexer": "ipython3",
   "version": "3.11.4"
  }
 },
 "nbformat": 4,
 "nbformat_minor": 5
}
