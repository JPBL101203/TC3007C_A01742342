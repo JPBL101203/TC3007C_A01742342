{
 "cells": [
  {
   "cell_type": "markdown",
   "id": "955730c1",
   "metadata": {},
   "source": [
    "### MAE - Mean Absolute Error - Error Absoluto Medio\n",
    "### MSE - Mean Squared Error - Error Cuadrado Medio\n",
    "### RMSE - Root Mean Square Error - Error Cuadrático Medio"
   ]
  },
  {
   "cell_type": "code",
   "execution_count": 4,
   "id": "872da98e",
   "metadata": {},
   "outputs": [],
   "source": [
    "# MAE - Es básicamente la media del error absoluto de cada predicción."
   ]
  },
  {
   "cell_type": "code",
   "execution_count": 6,
   "id": "04422e13",
   "metadata": {},
   "outputs": [],
   "source": [
    "# MSE - Es la media del error absoluto de cada predicción pero cuadrado, al cuadrado para penalizar los errores mas grandes"
   ]
  },
  {
   "cell_type": "code",
   "execution_count": 7,
   "id": "05fa7fc0",
   "metadata": {},
   "outputs": [],
   "source": [
    "# RMSE - Es MSE y después se agrega una raiz cuadrada"
   ]
  },
  {
   "cell_type": "markdown",
   "id": "2c83c254",
   "metadata": {},
   "source": [
    "### Regresión Lineal"
   ]
  },
  {
   "cell_type": "code",
   "execution_count": 1,
   "id": "b4f3a196",
   "metadata": {},
   "outputs": [],
   "source": [
    "from pyspark.sql import SparkSession"
   ]
  },
  {
   "cell_type": "code",
   "execution_count": 2,
   "id": "5db8e331",
   "metadata": {},
   "outputs": [],
   "source": [
    "from pyspark.ml.regression import LinearRegression"
   ]
  },
  {
   "cell_type": "code",
   "execution_count": 3,
   "id": "1ccc45a6",
   "metadata": {},
   "outputs": [
    {
     "name": "stderr",
     "output_type": "stream",
     "text": [
      "23/10/24 03:36:25 WARN Utils: Your hostname, ubuntu-s-1vcpu-2gb-sfo3-01 resolves to a loopback address: 127.0.1.1; using 10.48.0.5 instead (on interface eth0)\n",
      "23/10/24 03:36:25 WARN Utils: Set SPARK_LOCAL_IP if you need to bind to another address\n",
      "Setting default log level to \"WARN\".\n",
      "To adjust logging level use sc.setLogLevel(newLevel). For SparkR, use setLogLevel(newLevel).\n",
      "23/10/24 03:36:26 WARN NativeCodeLoader: Unable to load native-hadoop library for your platform... using builtin-java classes where applicable\n"
     ]
    }
   ],
   "source": [
    "spark = SparkSession.builder.appName('reg').getOrCreate()"
   ]
  },
  {
   "cell_type": "code",
   "execution_count": 4,
   "id": "a5ddb12e",
   "metadata": {},
   "outputs": [
    {
     "name": "stderr",
     "output_type": "stream",
     "text": [
      "23/10/24 03:36:31 WARN LibSVMFileFormat: 'numFeatures' option not specified, determining the number of features by going though the input. If you know the number in advance, please specify it via 'numFeatures' option to avoid the extra scan.\n",
      "                                                                                \r"
     ]
    }
   ],
   "source": [
    "train = spark.read.format('libsvm').load('sample_linear_regression_data.txt')"
   ]
  },
  {
   "cell_type": "code",
   "execution_count": 5,
   "id": "17b124b3",
   "metadata": {},
   "outputs": [
    {
     "name": "stdout",
     "output_type": "stream",
     "text": [
      "+-------------------+--------------------+\n",
      "|              label|            features|\n",
      "+-------------------+--------------------+\n",
      "| -9.490009878824548|(10,[0,1,2,3,4,5,...|\n",
      "| 0.2577820163584905|(10,[0,1,2,3,4,5,...|\n",
      "| -4.438869807456516|(10,[0,1,2,3,4,5,...|\n",
      "|-19.782762789614537|(10,[0,1,2,3,4,5,...|\n",
      "| -7.966593841555266|(10,[0,1,2,3,4,5,...|\n",
      "| -7.896274316726144|(10,[0,1,2,3,4,5,...|\n",
      "| -8.464803554195287|(10,[0,1,2,3,4,5,...|\n",
      "| 2.1214592666251364|(10,[0,1,2,3,4,5,...|\n",
      "| 1.0720117616524107|(10,[0,1,2,3,4,5,...|\n",
      "|-13.772441561702871|(10,[0,1,2,3,4,5,...|\n",
      "| -5.082010756207233|(10,[0,1,2,3,4,5,...|\n",
      "|  7.887786536531237|(10,[0,1,2,3,4,5,...|\n",
      "| 14.323146365332388|(10,[0,1,2,3,4,5,...|\n",
      "|-20.057482615789212|(10,[0,1,2,3,4,5,...|\n",
      "|-0.8995693247765151|(10,[0,1,2,3,4,5,...|\n",
      "| -19.16829262296376|(10,[0,1,2,3,4,5,...|\n",
      "|  5.601801561245534|(10,[0,1,2,3,4,5,...|\n",
      "|-3.2256352187273354|(10,[0,1,2,3,4,5,...|\n",
      "| 1.5299675726687754|(10,[0,1,2,3,4,5,...|\n",
      "| -0.250102447941961|(10,[0,1,2,3,4,5,...|\n",
      "+-------------------+--------------------+\n",
      "only showing top 20 rows\n",
      "\n"
     ]
    }
   ],
   "source": [
    "train.show()"
   ]
  },
  {
   "cell_type": "code",
   "execution_count": 6,
   "id": "d4387f7b",
   "metadata": {},
   "outputs": [],
   "source": [
    "lr = LinearRegression(featuresCol = 'features', labelCol = 'label', predictionCol = 'prediction')"
   ]
  },
  {
   "cell_type": "code",
   "execution_count": 7,
   "id": "d0af080a",
   "metadata": {},
   "outputs": [
    {
     "name": "stderr",
     "output_type": "stream",
     "text": [
      "23/10/24 03:36:42 WARN Instrumentation: [cff0f148] regParam is zero, which might cause numerical instability and overfitting.\n",
      "23/10/24 03:36:43 WARN InstanceBuilder: Failed to load implementation from:dev.ludovic.netlib.blas.JNIBLAS\n",
      "23/10/24 03:36:43 WARN InstanceBuilder: Failed to load implementation from:dev.ludovic.netlib.blas.VectorBLAS\n",
      "23/10/24 03:36:43 WARN InstanceBuilder: Failed to load implementation from:dev.ludovic.netlib.lapack.JNILAPACK\n"
     ]
    }
   ],
   "source": [
    "modelo = lr.fit(train)"
   ]
  },
  {
   "cell_type": "code",
   "execution_count": 8,
   "id": "661963d2",
   "metadata": {},
   "outputs": [
    {
     "data": {
      "text/plain": [
       "DenseVector([0.0073, 0.8314, -0.8095, 2.4412, 0.5192, 1.1535, -0.2989, -0.5129, -0.6197, 0.6956])"
      ]
     },
     "execution_count": 8,
     "metadata": {},
     "output_type": "execute_result"
    }
   ],
   "source": [
    "modelo.coefficients"
   ]
  },
  {
   "cell_type": "code",
   "execution_count": 9,
   "id": "dc8dfd03",
   "metadata": {},
   "outputs": [
    {
     "data": {
      "text/plain": [
       "0.14228558260358093"
      ]
     },
     "execution_count": 9,
     "metadata": {},
     "output_type": "execute_result"
    }
   ],
   "source": [
    "modelo.intercept"
   ]
  },
  {
   "cell_type": "code",
   "execution_count": 10,
   "id": "89638fe0",
   "metadata": {},
   "outputs": [],
   "source": [
    "summary = modelo.summary"
   ]
  },
  {
   "cell_type": "code",
   "execution_count": 11,
   "id": "8e023ce2",
   "metadata": {},
   "outputs": [
    {
     "name": "stdout",
     "output_type": "stream",
     "text": [
      "+-------------------+--------------------+--------------------+\n",
      "|              label|            features|          prediction|\n",
      "+-------------------+--------------------+--------------------+\n",
      "| -9.490009878824548|(10,[0,1,2,3,4,5,...|  1.5211201432720063|\n",
      "| 0.2577820163584905|(10,[0,1,2,3,4,5,...| -0.6658770747591632|\n",
      "| -4.438869807456516|(10,[0,1,2,3,4,5,...|  0.1568703823211514|\n",
      "|-19.782762789614537|(10,[0,1,2,3,4,5,...|  0.6374146679690593|\n",
      "| -7.966593841555266|(10,[0,1,2,3,4,5,...|   2.372566473232916|\n",
      "| -7.896274316726144|(10,[0,1,2,3,4,5,...| -1.9410651727650883|\n",
      "| -8.464803554195287|(10,[0,1,2,3,4,5,...|  2.2621027950886363|\n",
      "| 2.1214592666251364|(10,[0,1,2,3,4,5,...|-0.00134792656609...|\n",
      "| 1.0720117616524107|(10,[0,1,2,3,4,5,...| -3.0051104606414007|\n",
      "|-13.772441561702871|(10,[0,1,2,3,4,5,...|  3.5437265095387804|\n",
      "| -5.082010756207233|(10,[0,1,2,3,4,5,...| -0.4889664122481736|\n",
      "|  7.887786536531237|(10,[0,1,2,3,4,5,...|  1.5073098457843013|\n",
      "| 14.323146365332388|(10,[0,1,2,3,4,5,...|   3.002580330272542|\n",
      "|-20.057482615789212|(10,[0,1,2,3,4,5,...|  0.6644891587448811|\n",
      "|-0.8995693247765151|(10,[0,1,2,3,4,5,...|   1.837123449000886|\n",
      "| -19.16829262296376|(10,[0,1,2,3,4,5,...|  -2.499423280435292|\n",
      "|  5.601801561245534|(10,[0,1,2,3,4,5,...|  -2.640384817630781|\n",
      "|-3.2256352187273354|(10,[0,1,2,3,4,5,...|  -1.853286585458312|\n",
      "| 1.5299675726687754|(10,[0,1,2,3,4,5,...|   2.236000785795242|\n",
      "| -0.250102447941961|(10,[0,1,2,3,4,5,...|  0.9090111490574454|\n",
      "+-------------------+--------------------+--------------------+\n",
      "only showing top 20 rows\n",
      "\n"
     ]
    }
   ],
   "source": [
    "summary.predictions.show()"
   ]
  },
  {
   "cell_type": "code",
   "execution_count": 13,
   "id": "0bf20413",
   "metadata": {},
   "outputs": [
    {
     "data": {
      "text/plain": [
       "10.16309157133015"
      ]
     },
     "execution_count": 13,
     "metadata": {},
     "output_type": "execute_result"
    }
   ],
   "source": [
    "summary.rootMeanSquaredError"
   ]
  },
  {
   "cell_type": "code",
   "execution_count": 14,
   "id": "a7a1aa75",
   "metadata": {},
   "outputs": [
    {
     "data": {
      "text/plain": [
       "0.027839179518600154"
      ]
     },
     "execution_count": 14,
     "metadata": {},
     "output_type": "execute_result"
    }
   ],
   "source": [
    "summary.r2"
   ]
  },
  {
   "cell_type": "code",
   "execution_count": 15,
   "id": "325cff64",
   "metadata": {},
   "outputs": [
    {
     "name": "stderr",
     "output_type": "stream",
     "text": [
      "23/10/24 03:38:12 WARN LibSVMFileFormat: 'numFeatures' option not specified, determining the number of features by going though the input. If you know the number in advance, please specify it via 'numFeatures' option to avoid the extra scan.\n"
     ]
    }
   ],
   "source": [
    "datos = spark.read.format('libsvm').load('sample_linear_regression_data.txt')"
   ]
  },
  {
   "cell_type": "code",
   "execution_count": 16,
   "id": "81a412de",
   "metadata": {},
   "outputs": [],
   "source": [
    "split = datos.randomSplit([0.7, 0.3])"
   ]
  },
  {
   "cell_type": "code",
   "execution_count": 17,
   "id": "8d180e80",
   "metadata": {},
   "outputs": [
    {
     "data": {
      "text/plain": [
       "[DataFrame[label: double, features: vector],\n",
       " DataFrame[label: double, features: vector]]"
      ]
     },
     "execution_count": 17,
     "metadata": {},
     "output_type": "execute_result"
    }
   ],
   "source": [
    "split"
   ]
  },
  {
   "cell_type": "code",
   "execution_count": 19,
   "id": "86e325e7",
   "metadata": {},
   "outputs": [],
   "source": [
    "train, test = datos.randomSplit([0.7, 0.3])"
   ]
  },
  {
   "cell_type": "code",
   "execution_count": 21,
   "id": "78192dc3",
   "metadata": {},
   "outputs": [
    {
     "name": "stdout",
     "output_type": "stream",
     "text": [
      "+-------+-------------------+\n",
      "|summary|              label|\n",
      "+-------+-------------------+\n",
      "|  count|                360|\n",
      "|   mean|0.21240604825035267|\n",
      "| stddev| 10.314021808098786|\n",
      "|    min|-28.571478869743427|\n",
      "|    max|  27.78383192005107|\n",
      "+-------+-------------------+\n",
      "\n"
     ]
    }
   ],
   "source": [
    "train.describe().show()"
   ]
  },
  {
   "cell_type": "code",
   "execution_count": 22,
   "id": "07e65e10",
   "metadata": {},
   "outputs": [
    {
     "name": "stdout",
     "output_type": "stream",
     "text": [
      "+-------+-------------------+\n",
      "|summary|              label|\n",
      "+-------+-------------------+\n",
      "|  count|                141|\n",
      "|   mean|0.37046186205364345|\n",
      "| stddev| 10.363657964565672|\n",
      "|    min|-23.487440120936512|\n",
      "|    max| 24.290551295953957|\n",
      "+-------+-------------------+\n",
      "\n"
     ]
    }
   ],
   "source": [
    "test.describe().show()"
   ]
  },
  {
   "cell_type": "code",
   "execution_count": 23,
   "id": "4c5f12df",
   "metadata": {},
   "outputs": [
    {
     "name": "stderr",
     "output_type": "stream",
     "text": [
      "23/10/24 03:40:16 WARN Instrumentation: [2127bfd4] regParam is zero, which might cause numerical instability and overfitting.\n"
     ]
    }
   ],
   "source": [
    "modelo_fit = lr.fit(train)"
   ]
  },
  {
   "cell_type": "code",
   "execution_count": 24,
   "id": "b8ad6fed",
   "metadata": {},
   "outputs": [],
   "source": [
    "resultados_test = modelo_fit.evaluate(test)"
   ]
  },
  {
   "cell_type": "code",
   "execution_count": 25,
   "id": "5748cbc7",
   "metadata": {},
   "outputs": [
    {
     "data": {
      "text/plain": [
       "10.223699419336727"
      ]
     },
     "execution_count": 25,
     "metadata": {},
     "output_type": "execute_result"
    }
   ],
   "source": [
    "resultados_test.rootMeanSquaredError"
   ]
  },
  {
   "cell_type": "code",
   "execution_count": 26,
   "id": "7f041f0d",
   "metadata": {},
   "outputs": [
    {
     "name": "stdout",
     "output_type": "stream",
     "text": [
      "+-------------------+--------------------+\n",
      "|              label|            features|\n",
      "+-------------------+--------------------+\n",
      "| -9.490009878824548|(10,[0,1,2,3,4,5,...|\n",
      "| 0.2577820163584905|(10,[0,1,2,3,4,5,...|\n",
      "| -4.438869807456516|(10,[0,1,2,3,4,5,...|\n",
      "|-19.782762789614537|(10,[0,1,2,3,4,5,...|\n",
      "| -7.966593841555266|(10,[0,1,2,3,4,5,...|\n",
      "| -7.896274316726144|(10,[0,1,2,3,4,5,...|\n",
      "| -8.464803554195287|(10,[0,1,2,3,4,5,...|\n",
      "| 2.1214592666251364|(10,[0,1,2,3,4,5,...|\n",
      "| 1.0720117616524107|(10,[0,1,2,3,4,5,...|\n",
      "|-13.772441561702871|(10,[0,1,2,3,4,5,...|\n",
      "| -5.082010756207233|(10,[0,1,2,3,4,5,...|\n",
      "|  7.887786536531237|(10,[0,1,2,3,4,5,...|\n",
      "| 14.323146365332388|(10,[0,1,2,3,4,5,...|\n",
      "|-20.057482615789212|(10,[0,1,2,3,4,5,...|\n",
      "|-0.8995693247765151|(10,[0,1,2,3,4,5,...|\n",
      "| -19.16829262296376|(10,[0,1,2,3,4,5,...|\n",
      "|  5.601801561245534|(10,[0,1,2,3,4,5,...|\n",
      "|-3.2256352187273354|(10,[0,1,2,3,4,5,...|\n",
      "| 1.5299675726687754|(10,[0,1,2,3,4,5,...|\n",
      "| -0.250102447941961|(10,[0,1,2,3,4,5,...|\n",
      "+-------------------+--------------------+\n",
      "only showing top 20 rows\n",
      "\n"
     ]
    }
   ],
   "source": [
    "datos.show()"
   ]
  },
  {
   "cell_type": "code",
   "execution_count": 27,
   "id": "25e309d5",
   "metadata": {},
   "outputs": [],
   "source": [
    "datos_sin_etiquetas = test.select('features')"
   ]
  },
  {
   "cell_type": "code",
   "execution_count": 28,
   "id": "30378f12",
   "metadata": {},
   "outputs": [
    {
     "name": "stdout",
     "output_type": "stream",
     "text": [
      "+--------------------+\n",
      "|            features|\n",
      "+--------------------+\n",
      "|(10,[0,1,2,3,4,5,...|\n",
      "|(10,[0,1,2,3,4,5,...|\n",
      "|(10,[0,1,2,3,4,5,...|\n",
      "|(10,[0,1,2,3,4,5,...|\n",
      "|(10,[0,1,2,3,4,5,...|\n",
      "|(10,[0,1,2,3,4,5,...|\n",
      "|(10,[0,1,2,3,4,5,...|\n",
      "|(10,[0,1,2,3,4,5,...|\n",
      "|(10,[0,1,2,3,4,5,...|\n",
      "|(10,[0,1,2,3,4,5,...|\n",
      "|(10,[0,1,2,3,4,5,...|\n",
      "|(10,[0,1,2,3,4,5,...|\n",
      "|(10,[0,1,2,3,4,5,...|\n",
      "|(10,[0,1,2,3,4,5,...|\n",
      "|(10,[0,1,2,3,4,5,...|\n",
      "|(10,[0,1,2,3,4,5,...|\n",
      "|(10,[0,1,2,3,4,5,...|\n",
      "|(10,[0,1,2,3,4,5,...|\n",
      "|(10,[0,1,2,3,4,5,...|\n",
      "|(10,[0,1,2,3,4,5,...|\n",
      "+--------------------+\n",
      "only showing top 20 rows\n",
      "\n"
     ]
    }
   ],
   "source": [
    "datos_sin_etiquetas.show()"
   ]
  },
  {
   "cell_type": "code",
   "execution_count": 29,
   "id": "0225ecd2",
   "metadata": {},
   "outputs": [],
   "source": [
    "predicciones = modelo_fit.transform(datos_sin_etiquetas)"
   ]
  },
  {
   "cell_type": "code",
   "execution_count": 30,
   "id": "808209c1",
   "metadata": {},
   "outputs": [
    {
     "name": "stdout",
     "output_type": "stream",
     "text": [
      "+--------------------+--------------------+\n",
      "|            features|          prediction|\n",
      "+--------------------+--------------------+\n",
      "|(10,[0,1,2,3,4,5,...| -0.8709506080402775|\n",
      "|(10,[0,1,2,3,4,5,...|  -3.320552846966215|\n",
      "|(10,[0,1,2,3,4,5,...|  0.8983783623809372|\n",
      "|(10,[0,1,2,3,4,5,...| 0.11589896281980464|\n",
      "|(10,[0,1,2,3,4,5,...|   1.588210125203458|\n",
      "|(10,[0,1,2,3,4,5,...| -2.1599431953100217|\n",
      "|(10,[0,1,2,3,4,5,...|-0.07367617974261156|\n",
      "|(10,[0,1,2,3,4,5,...| -1.6686855926070476|\n",
      "|(10,[0,1,2,3,4,5,...|  2.4930591732223726|\n",
      "|(10,[0,1,2,3,4,5,...|  -2.439065917002762|\n",
      "|(10,[0,1,2,3,4,5,...| 0.06311393962411657|\n",
      "|(10,[0,1,2,3,4,5,...| -0.2381913860331816|\n",
      "|(10,[0,1,2,3,4,5,...|   3.779387974834392|\n",
      "|(10,[0,1,2,3,4,5,...|   3.247830638304212|\n",
      "|(10,[0,1,2,3,4,5,...|   1.804384837285219|\n",
      "|(10,[0,1,2,3,4,5,...|  -3.013731366804212|\n",
      "|(10,[0,1,2,3,4,5,...| -0.7726280726717831|\n",
      "|(10,[0,1,2,3,4,5,...|  1.3494601644500663|\n",
      "|(10,[0,1,2,3,4,5,...|  0.3431881916149463|\n",
      "|(10,[0,1,2,3,4,5,...|  1.4825812689448576|\n",
      "+--------------------+--------------------+\n",
      "only showing top 20 rows\n",
      "\n"
     ]
    }
   ],
   "source": [
    "predicciones.show()"
   ]
  },
  {
   "cell_type": "code",
   "execution_count": null,
   "id": "82432e1d",
   "metadata": {},
   "outputs": [],
   "source": []
  }
 ],
 "metadata": {
  "kernelspec": {
   "display_name": "Python 3 (ipykernel)",
   "language": "python",
   "name": "python3"
  },
  "language_info": {
   "codemirror_mode": {
    "name": "ipython",
    "version": 3
   },
   "file_extension": ".py",
   "mimetype": "text/x-python",
   "name": "python",
   "nbconvert_exporter": "python",
   "pygments_lexer": "ipython3",
   "version": "3.11.4"
  }
 },
 "nbformat": 4,
 "nbformat_minor": 5
}
