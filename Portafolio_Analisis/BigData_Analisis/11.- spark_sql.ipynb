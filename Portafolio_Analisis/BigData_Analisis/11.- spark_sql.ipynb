{
 "cells": [
  {
   "cell_type": "code",
   "execution_count": 1,
   "id": "34b3e146",
   "metadata": {},
   "outputs": [],
   "source": [
    "from pyspark.sql import SparkSession"
   ]
  },
  {
   "cell_type": "code",
   "execution_count": 2,
   "id": "63f03acf",
   "metadata": {},
   "outputs": [],
   "source": [
    "from pyspark.sql.types import StructField, StructType, StringType, IntegerType"
   ]
  },
  {
   "cell_type": "code",
   "execution_count": 3,
   "id": "f79b9639",
   "metadata": {},
   "outputs": [
    {
     "name": "stderr",
     "output_type": "stream",
     "text": [
      "Setting default log level to \"WARN\".\n",
      "To adjust logging level use sc.setLogLevel(newLevel). For SparkR, use setLogLevel(newLevel).\n",
      "23/10/23 20:36:46 WARN NativeCodeLoader: Unable to load native-hadoop library for your platform... using builtin-java classes where applicable\n"
     ]
    }
   ],
   "source": [
    "spark = SparkSession.builder.appName('DataFrame').getOrCreate()"
   ]
  },
  {
   "cell_type": "code",
   "execution_count": 4,
   "id": "5cdc833b",
   "metadata": {},
   "outputs": [
    {
     "name": "stderr",
     "output_type": "stream",
     "text": [
      "                                                                                \r"
     ]
    }
   ],
   "source": [
    "df = spark.read.json('personas.json')"
   ]
  },
  {
   "cell_type": "code",
   "execution_count": 5,
   "id": "197b730c",
   "metadata": {},
   "outputs": [
    {
     "name": "stdout",
     "output_type": "stream",
     "text": [
      "+----+------+\n",
      "|edad|nombre|\n",
      "+----+------+\n",
      "|NULL|Miguel|\n",
      "|  25|Carlos|\n",
      "|  19|  Juan|\n",
      "+----+------+\n",
      "\n"
     ]
    }
   ],
   "source": [
    "df.show()"
   ]
  },
  {
   "cell_type": "code",
   "execution_count": 6,
   "id": "536af8fb",
   "metadata": {},
   "outputs": [
    {
     "name": "stdout",
     "output_type": "stream",
     "text": [
      "root\n",
      " |-- edad: long (nullable = true)\n",
      " |-- nombre: string (nullable = true)\n",
      "\n"
     ]
    }
   ],
   "source": [
    "df.printSchema()"
   ]
  },
  {
   "cell_type": "code",
   "execution_count": 7,
   "id": "847ff7f4",
   "metadata": {},
   "outputs": [
    {
     "data": {
      "text/plain": [
       "['edad', 'nombre']"
      ]
     },
     "execution_count": 7,
     "metadata": {},
     "output_type": "execute_result"
    }
   ],
   "source": [
    "df.columns"
   ]
  },
  {
   "cell_type": "code",
   "execution_count": 8,
   "id": "050173fe",
   "metadata": {},
   "outputs": [
    {
     "name": "stderr",
     "output_type": "stream",
     "text": [
      "\r",
      "[Stage 2:>                                                          (0 + 1) / 1]\r"
     ]
    },
    {
     "name": "stdout",
     "output_type": "stream",
     "text": [
      "+-------+-----------------+------+\n",
      "|summary|             edad|nombre|\n",
      "+-------+-----------------+------+\n",
      "|  count|                2|     3|\n",
      "|   mean|             22.0|  NULL|\n",
      "| stddev|4.242640687119285|  NULL|\n",
      "|    min|               19|Carlos|\n",
      "|    max|               25|Miguel|\n",
      "+-------+-----------------+------+\n",
      "\n"
     ]
    },
    {
     "name": "stderr",
     "output_type": "stream",
     "text": [
      "\r",
      "[Stage 4:>                                                          (0 + 1) / 1]\r",
      "\r",
      "                                                                                \r"
     ]
    }
   ],
   "source": [
    "df.describe().show()"
   ]
  },
  {
   "cell_type": "markdown",
   "id": "81fa7964",
   "metadata": {},
   "source": [
    "### schema"
   ]
  },
  {
   "cell_type": "code",
   "execution_count": 9,
   "id": "738c4d72",
   "metadata": {},
   "outputs": [],
   "source": [
    "schema = [StructField ('edad', IntegerType(), True), StructField ('nombre', StringType(), True)]"
   ]
  },
  {
   "cell_type": "code",
   "execution_count": 10,
   "id": "3f01083d",
   "metadata": {},
   "outputs": [],
   "source": [
    "schema_final = StructType(fields = schema)"
   ]
  },
  {
   "cell_type": "code",
   "execution_count": 11,
   "id": "215d5718",
   "metadata": {},
   "outputs": [],
   "source": [
    "df = spark.read.json('personas.json', schema = schema_final)"
   ]
  },
  {
   "cell_type": "code",
   "execution_count": 12,
   "id": "17d78cf4",
   "metadata": {},
   "outputs": [
    {
     "name": "stdout",
     "output_type": "stream",
     "text": [
      "root\n",
      " |-- edad: integer (nullable = true)\n",
      " |-- nombre: string (nullable = true)\n",
      "\n"
     ]
    }
   ],
   "source": [
    "df.printSchema()"
   ]
  },
  {
   "cell_type": "code",
   "execution_count": 13,
   "id": "f78a8379",
   "metadata": {},
   "outputs": [
    {
     "name": "stdout",
     "output_type": "stream",
     "text": [
      "+----+------+\n",
      "|edad|nombre|\n",
      "+----+------+\n",
      "|NULL|Miguel|\n",
      "|  25|Carlos|\n",
      "|  19|  Juan|\n",
      "+----+------+\n",
      "\n"
     ]
    }
   ],
   "source": [
    "df.show()"
   ]
  },
  {
   "cell_type": "markdown",
   "id": "1f6afae7",
   "metadata": {},
   "source": [
    "### select"
   ]
  },
  {
   "cell_type": "code",
   "execution_count": 14,
   "id": "58c61ac0",
   "metadata": {},
   "outputs": [
    {
     "data": {
      "text/plain": [
       "Column<'edad'>"
      ]
     },
     "execution_count": 14,
     "metadata": {},
     "output_type": "execute_result"
    }
   ],
   "source": [
    "df['edad']"
   ]
  },
  {
   "cell_type": "code",
   "execution_count": 15,
   "id": "83e07047",
   "metadata": {},
   "outputs": [
    {
     "data": {
      "text/plain": [
       "pyspark.sql.column.Column"
      ]
     },
     "execution_count": 15,
     "metadata": {},
     "output_type": "execute_result"
    }
   ],
   "source": [
    "type(df['edad'])"
   ]
  },
  {
   "cell_type": "code",
   "execution_count": 16,
   "id": "305bcc03",
   "metadata": {},
   "outputs": [
    {
     "name": "stdout",
     "output_type": "stream",
     "text": [
      "+----+\n",
      "|edad|\n",
      "+----+\n",
      "|NULL|\n",
      "|  25|\n",
      "|  19|\n",
      "+----+\n",
      "\n"
     ]
    }
   ],
   "source": [
    "df.select('edad').show()"
   ]
  },
  {
   "cell_type": "code",
   "execution_count": 17,
   "id": "55fc6b1e",
   "metadata": {},
   "outputs": [
    {
     "data": {
      "text/plain": [
       "pyspark.sql.dataframe.DataFrame"
      ]
     },
     "execution_count": 17,
     "metadata": {},
     "output_type": "execute_result"
    }
   ],
   "source": [
    "type(df.select('edad'))"
   ]
  },
  {
   "cell_type": "code",
   "execution_count": 18,
   "id": "44c44f5b",
   "metadata": {},
   "outputs": [
    {
     "data": {
      "text/plain": [
       "[Row(edad=None, nombre='Miguel'), Row(edad=25, nombre='Carlos')]"
      ]
     },
     "execution_count": 18,
     "metadata": {},
     "output_type": "execute_result"
    }
   ],
   "source": [
    "df.head(2)"
   ]
  },
  {
   "cell_type": "code",
   "execution_count": 19,
   "id": "fab9460d",
   "metadata": {},
   "outputs": [
    {
     "data": {
      "text/plain": [
       "Row(edad=None, nombre='Miguel')"
      ]
     },
     "execution_count": 19,
     "metadata": {},
     "output_type": "execute_result"
    }
   ],
   "source": [
    "df.head(2)[0]"
   ]
  },
  {
   "cell_type": "code",
   "execution_count": 20,
   "id": "214505a9",
   "metadata": {},
   "outputs": [
    {
     "data": {
      "text/plain": [
       "pyspark.sql.types.Row"
      ]
     },
     "execution_count": 20,
     "metadata": {},
     "output_type": "execute_result"
    }
   ],
   "source": [
    "type(df.head(2)[0])"
   ]
  },
  {
   "cell_type": "code",
   "execution_count": 21,
   "id": "b5fe673f",
   "metadata": {},
   "outputs": [
    {
     "name": "stdout",
     "output_type": "stream",
     "text": [
      "+------+----+\n",
      "|nombre|edad|\n",
      "+------+----+\n",
      "|Miguel|NULL|\n",
      "|Carlos|  25|\n",
      "|  Juan|  19|\n",
      "+------+----+\n",
      "\n"
     ]
    }
   ],
   "source": [
    "df.select('nombre','edad').show()"
   ]
  },
  {
   "cell_type": "markdown",
   "id": "82cb812f",
   "metadata": {},
   "source": [
    "### crear una nueva columna con withColumn"
   ]
  },
  {
   "cell_type": "code",
   "execution_count": 22,
   "id": "92b0e94b",
   "metadata": {},
   "outputs": [
    {
     "name": "stdout",
     "output_type": "stream",
     "text": [
      "+----+------+----------+\n",
      "|edad|nombre|edad_nueva|\n",
      "+----+------+----------+\n",
      "|NULL|Miguel|      NULL|\n",
      "|  25|Carlos|        50|\n",
      "|  19|  Juan|        38|\n",
      "+----+------+----------+\n",
      "\n"
     ]
    }
   ],
   "source": [
    "df.withColumn('edad_nueva', df['edad']*2).show()"
   ]
  },
  {
   "cell_type": "code",
   "execution_count": 23,
   "id": "28261c84",
   "metadata": {},
   "outputs": [],
   "source": [
    "### cambiar el nombre de una columna con withColumnRename"
   ]
  },
  {
   "cell_type": "code",
   "execution_count": 24,
   "id": "cc047644",
   "metadata": {},
   "outputs": [
    {
     "name": "stdout",
     "output_type": "stream",
     "text": [
      "+----------+------+\n",
      "|nueva_edad|nombre|\n",
      "+----------+------+\n",
      "|      NULL|Miguel|\n",
      "|        25|Carlos|\n",
      "|        19|  Juan|\n",
      "+----------+------+\n",
      "\n"
     ]
    }
   ],
   "source": [
    "df.withColumnRenamed('edad','nueva_edad').show()"
   ]
  },
  {
   "cell_type": "markdown",
   "id": "b6ecad5c",
   "metadata": {},
   "source": [
    "### Utilizar el lenguaje sql para realizar una consulta"
   ]
  },
  {
   "cell_type": "code",
   "execution_count": 25,
   "id": "d88e197c",
   "metadata": {},
   "outputs": [],
   "source": [
    "df.createOrReplaceTempView('personas')"
   ]
  },
  {
   "cell_type": "code",
   "execution_count": 26,
   "id": "b8e7681c",
   "metadata": {},
   "outputs": [],
   "source": [
    "query = spark.sql('select * from personas')"
   ]
  },
  {
   "cell_type": "code",
   "execution_count": 27,
   "id": "84a81c5e",
   "metadata": {},
   "outputs": [
    {
     "name": "stdout",
     "output_type": "stream",
     "text": [
      "+----+------+\n",
      "|edad|nombre|\n",
      "+----+------+\n",
      "|NULL|Miguel|\n",
      "|  25|Carlos|\n",
      "|  19|  Juan|\n",
      "+----+------+\n",
      "\n"
     ]
    }
   ],
   "source": [
    "query.show()"
   ]
  },
  {
   "cell_type": "code",
   "execution_count": 28,
   "id": "0c549bd0",
   "metadata": {},
   "outputs": [],
   "source": [
    "mayor_veinte = spark.sql('select * from personas where edad > 20')"
   ]
  },
  {
   "cell_type": "code",
   "execution_count": 29,
   "id": "6411c22d",
   "metadata": {},
   "outputs": [
    {
     "name": "stdout",
     "output_type": "stream",
     "text": [
      "+----+------+\n",
      "|edad|nombre|\n",
      "+----+------+\n",
      "|  25|Carlos|\n",
      "+----+------+\n",
      "\n"
     ]
    }
   ],
   "source": [
    "mayor_veinte.show()"
   ]
  },
  {
   "cell_type": "markdown",
   "id": "f1eb1694",
   "metadata": {},
   "source": [
    "### filter where"
   ]
  },
  {
   "cell_type": "code",
   "execution_count": 30,
   "id": "8d0543ef",
   "metadata": {},
   "outputs": [],
   "source": [
    "df = spark.read.csv('AAPL.csv', inferSchema = True, header = True)"
   ]
  },
  {
   "cell_type": "code",
   "execution_count": 31,
   "id": "9e995a57",
   "metadata": {},
   "outputs": [
    {
     "name": "stdout",
     "output_type": "stream",
     "text": [
      "+----------+---------+---------+---------+---------+---------+---------+\n",
      "|      Date|     Open|     High|      Low|    Close|Adj Close|   Volume|\n",
      "+----------+---------+---------+---------+---------+---------+---------+\n",
      "|2010-01-04|    30.49|30.642857|    30.34|30.572857|26.466835|123432400|\n",
      "|2010-01-05|30.657143|30.798571|30.464285|30.625713|26.512596|150476200|\n",
      "|2010-01-06|30.625713|30.747143|30.107143|30.138571|26.090879|138040000|\n",
      "|2010-01-07|    30.25|30.285715|29.864286|30.082857|26.042646|119282800|\n",
      "|2010-01-08|30.042856|30.285715|29.865715|30.282858|26.215786|111902700|\n",
      "|2010-01-11|     30.4|30.428572|29.778572|30.015715|25.984528|115557400|\n",
      "|2010-01-12|29.884285|29.967142|29.488571|29.674286|25.688946|148614900|\n",
      "|2010-01-13|29.695715|30.132856|29.157143|30.092857|26.051304|151473000|\n",
      "|2010-01-14|30.015715|30.065714|29.860001|29.918571|25.900436|108223500|\n",
      "|2010-01-15|30.132856|30.228571|    29.41|29.418571|25.467583|148516900|\n",
      "|2010-01-19|29.761429|30.741428|29.605715|30.719999|26.594227|182501900|\n",
      "|2010-01-20|30.701429|30.792856|29.928572|30.247143| 26.18487|153038200|\n",
      "|2010-01-21|30.297142|30.472857|29.601429|29.724285|25.732233|152038600|\n",
      "|2010-01-22|29.540001|29.642857|28.165714|    28.25|24.455948|220441900|\n",
      "|2010-01-25|    28.93|29.242857|28.598572|    29.01|25.113882|266424900|\n",
      "|2010-01-26|29.421429|30.530001|28.940001|    29.42|25.468813|466777500|\n",
      "|2010-01-27|29.549999|30.082857|28.504286|29.697144|25.708735|430642100|\n",
      "|2010-01-28|29.275715|29.357143|28.385714|28.469999|24.646406|293375600|\n",
      "|2010-01-29|28.725714|28.885714|27.178572|27.437143| 23.75227|311488100|\n",
      "|2010-02-01|27.481428|     28.0|27.328571|27.818571|24.082464|187469100|\n",
      "+----------+---------+---------+---------+---------+---------+---------+\n",
      "only showing top 20 rows\n",
      "\n"
     ]
    }
   ],
   "source": [
    "df.show()"
   ]
  },
  {
   "cell_type": "code",
   "execution_count": 32,
   "id": "0dd3c67b",
   "metadata": {},
   "outputs": [
    {
     "name": "stdout",
     "output_type": "stream",
     "text": [
      "root\n",
      " |-- Date: date (nullable = true)\n",
      " |-- Open: double (nullable = true)\n",
      " |-- High: double (nullable = true)\n",
      " |-- Low: double (nullable = true)\n",
      " |-- Close: double (nullable = true)\n",
      " |-- Adj Close: double (nullable = true)\n",
      " |-- Volume: integer (nullable = true)\n",
      "\n"
     ]
    }
   ],
   "source": [
    "df.printSchema()"
   ]
  },
  {
   "cell_type": "code",
   "execution_count": 33,
   "id": "228fe3e5",
   "metadata": {},
   "outputs": [
    {
     "data": {
      "text/plain": [
       "Row(Date=datetime.date(2010, 1, 4), Open=30.49, High=30.642857, Low=30.34, Close=30.572857, Adj Close=26.466835, Volume=123432400)"
      ]
     },
     "execution_count": 33,
     "metadata": {},
     "output_type": "execute_result"
    }
   ],
   "source": [
    "df.head(3)[0]"
   ]
  },
  {
   "cell_type": "code",
   "execution_count": 34,
   "id": "c7a877ab",
   "metadata": {},
   "outputs": [
    {
     "name": "stdout",
     "output_type": "stream",
     "text": [
      "+---------+---------+\n",
      "|     Open|    Close|\n",
      "+---------+---------+\n",
      "|29.884285|29.674286|\n",
      "|30.015715|29.918571|\n",
      "|30.132856|29.418571|\n",
      "|30.297142|29.724285|\n",
      "|29.540001|    28.25|\n",
      "|    28.93|    29.01|\n",
      "|29.421429|    29.42|\n",
      "|29.549999|29.697144|\n",
      "|29.275715|28.469999|\n",
      "|28.725714|27.437143|\n",
      "|27.481428|27.818571|\n",
      "|27.987143|    27.98|\n",
      "|27.881428|28.461428|\n",
      "|28.104286|27.435715|\n",
      "|27.518572|27.922857|\n",
      "|27.955715|27.731428|\n",
      "|28.059999|28.027143|\n",
      "|27.984285|27.874287|\n",
      "|    27.84|28.381428|\n",
      "|28.301428|28.625713|\n",
      "+---------+---------+\n",
      "only showing top 20 rows\n",
      "\n"
     ]
    }
   ],
   "source": [
    "df.filter('Close < 30').select(['Open','Close']).show()"
   ]
  },
  {
   "cell_type": "code",
   "execution_count": 35,
   "id": "19c16a1c",
   "metadata": {},
   "outputs": [
    {
     "name": "stdout",
     "output_type": "stream",
     "text": [
      "+---------+---------+\n",
      "|     Open|    Close|\n",
      "+---------+---------+\n",
      "|29.884285|29.674286|\n",
      "|30.015715|29.918571|\n",
      "|30.132856|29.418571|\n",
      "|30.297142|29.724285|\n",
      "|29.540001|    28.25|\n",
      "|    28.93|    29.01|\n",
      "|29.421429|    29.42|\n",
      "|29.549999|29.697144|\n",
      "|29.275715|28.469999|\n",
      "|28.725714|27.437143|\n",
      "|27.481428|27.818571|\n",
      "|27.987143|    27.98|\n",
      "|27.881428|28.461428|\n",
      "|28.104286|27.435715|\n",
      "|27.518572|27.922857|\n",
      "|27.955715|27.731428|\n",
      "|28.059999|28.027143|\n",
      "|27.984285|27.874287|\n",
      "|    27.84|28.381428|\n",
      "|28.301428|28.625713|\n",
      "+---------+---------+\n",
      "only showing top 20 rows\n",
      "\n"
     ]
    }
   ],
   "source": [
    "df.filter(df['Close'] < 30).select(['Open','Close']).show()"
   ]
  },
  {
   "cell_type": "code",
   "execution_count": 36,
   "id": "a08bfe07",
   "metadata": {},
   "outputs": [
    {
     "name": "stdout",
     "output_type": "stream",
     "text": [
      "+---------+---------+\n",
      "|     Open|    Close|\n",
      "+---------+---------+\n",
      "|29.884285|29.674286|\n",
      "|29.695715|30.092857|\n",
      "|30.015715|29.918571|\n",
      "|30.132856|29.418571|\n",
      "|29.761429|30.719999|\n",
      "|30.297142|29.724285|\n",
      "|29.540001|    28.25|\n",
      "|    28.93|    29.01|\n",
      "|29.421429|    29.42|\n",
      "|29.549999|29.697144|\n",
      "|29.275715|28.469999|\n",
      "|28.725714|27.437143|\n",
      "|27.481428|27.818571|\n",
      "|27.987143|    27.98|\n",
      "|27.881428|28.461428|\n",
      "|28.104286|27.435715|\n",
      "|27.518572|27.922857|\n",
      "|27.955715|27.731428|\n",
      "|28.059999|28.027143|\n",
      "|27.984285|27.874287|\n",
      "+---------+---------+\n",
      "only showing top 20 rows\n",
      "\n"
     ]
    }
   ],
   "source": [
    "df.where((df['Close'] < 30) | (df['Open'] < 30)).select(['Open','Close']).show()"
   ]
  },
  {
   "cell_type": "code",
   "execution_count": 37,
   "id": "df10d195",
   "metadata": {},
   "outputs": [
    {
     "name": "stdout",
     "output_type": "stream",
     "text": [
      "+---------+---------+\n",
      "|     Open|    Close|\n",
      "+---------+---------+\n",
      "|29.884285|29.674286|\n",
      "|29.540001|    28.25|\n",
      "|    28.93|    29.01|\n",
      "|29.421429|    29.42|\n",
      "|29.549999|29.697144|\n",
      "|29.275715|28.469999|\n",
      "|28.725714|27.437143|\n",
      "|27.481428|27.818571|\n",
      "|27.987143|    27.98|\n",
      "|27.881428|28.461428|\n",
      "|28.104286|27.435715|\n",
      "|27.518572|27.922857|\n",
      "|27.955715|27.731428|\n",
      "|28.059999|28.027143|\n",
      "|27.984285|27.874287|\n",
      "|    27.84|28.381428|\n",
      "|28.301428|28.625713|\n",
      "|28.848572|29.057142|\n",
      "|    29.17|28.935715|\n",
      "|28.804285|    28.99|\n",
      "+---------+---------+\n",
      "only showing top 20 rows\n",
      "\n"
     ]
    }
   ],
   "source": [
    "df.where((df['Close'] < 30) & (df['Open'] < 30)).select(['Open','Close']).show()"
   ]
  },
  {
   "cell_type": "code",
   "execution_count": 38,
   "id": "74f783e9",
   "metadata": {},
   "outputs": [
    {
     "name": "stdout",
     "output_type": "stream",
     "text": [
      "+---------+---------+\n",
      "|     Open|    Close|\n",
      "+---------+---------+\n",
      "|30.015715|29.918571|\n",
      "|30.132856|29.418571|\n",
      "|30.297142|29.724285|\n",
      "+---------+---------+\n",
      "\n"
     ]
    }
   ],
   "source": [
    "df.where((df['Close'] < 30) & ~(df['Open'] < 30)).select(['Open','Close']).show()"
   ]
  },
  {
   "cell_type": "code",
   "execution_count": 39,
   "id": "57c0edb7",
   "metadata": {},
   "outputs": [
    {
     "name": "stdout",
     "output_type": "stream",
     "text": [
      "+----------+-----+---------+-----+---------+---------+---------+\n",
      "|      Date| Open|     High|  Low|    Close|Adj Close|   Volume|\n",
      "+----------+-----+---------+-----+---------+---------+---------+\n",
      "|2010-01-04|30.49|30.642857|30.34|30.572857|26.466835|123432400|\n",
      "+----------+-----+---------+-----+---------+---------+---------+\n",
      "\n"
     ]
    }
   ],
   "source": [
    "df.filter(df['Low'] == 30.34).show()"
   ]
  },
  {
   "cell_type": "code",
   "execution_count": 40,
   "id": "616bddc5",
   "metadata": {},
   "outputs": [],
   "source": [
    "resultado = df.filter(df['Low'] == 30.34).collect()"
   ]
  },
  {
   "cell_type": "code",
   "execution_count": 41,
   "id": "da16af18",
   "metadata": {},
   "outputs": [
    {
     "data": {
      "text/plain": [
       "Row(Date=datetime.date(2010, 1, 4), Open=30.49, High=30.642857, Low=30.34, Close=30.572857, Adj Close=26.466835, Volume=123432400)"
      ]
     },
     "execution_count": 41,
     "metadata": {},
     "output_type": "execute_result"
    }
   ],
   "source": [
    "resultado[0]"
   ]
  },
  {
   "cell_type": "code",
   "execution_count": 42,
   "id": "6689fefa",
   "metadata": {},
   "outputs": [],
   "source": [
    "fila = resultado[0]"
   ]
  },
  {
   "cell_type": "code",
   "execution_count": 43,
   "id": "52358301",
   "metadata": {},
   "outputs": [
    {
     "data": {
      "text/plain": [
       "123432400"
      ]
     },
     "execution_count": 43,
     "metadata": {},
     "output_type": "execute_result"
    }
   ],
   "source": [
    "fila.asDict()['Volume']"
   ]
  },
  {
   "cell_type": "markdown",
   "id": "51726988",
   "metadata": {},
   "source": [
    "### agrupaciones"
   ]
  },
  {
   "cell_type": "code",
   "execution_count": 46,
   "id": "1f0b72f2",
   "metadata": {},
   "outputs": [],
   "source": [
    "df = spark.read.csv('ventas.csv', inferSchema = True, header = True)"
   ]
  },
  {
   "cell_type": "code",
   "execution_count": 47,
   "id": "2ae03e49",
   "metadata": {},
   "outputs": [
    {
     "name": "stdout",
     "output_type": "stream",
     "text": [
      "+-------+-------+------+\n",
      "|Empresa|Persona|Ventas|\n",
      "+-------+-------+------+\n",
      "|   GOOG| Carlos|   200|\n",
      "|   GOOG|   Juan|   120|\n",
      "|   GOOG| Felipe|   340|\n",
      "|   MSFT|   Tina|   600|\n",
      "|   MSFT| Andrea|   124|\n",
      "|   MSFT|  Carla|   243|\n",
      "|     FB|   Sara|   870|\n",
      "|     FB|Ignacio|   350|\n",
      "|   APPL| Miguel|   250|\n",
      "|   APPL|  Oscar|   130|\n",
      "|   APPL|  Jorge|   750|\n",
      "|   APPL|   Ivan|   350|\n",
      "+-------+-------+------+\n",
      "\n"
     ]
    }
   ],
   "source": [
    "df.show()"
   ]
  },
  {
   "cell_type": "code",
   "execution_count": 48,
   "id": "3b93e32b",
   "metadata": {},
   "outputs": [
    {
     "name": "stdout",
     "output_type": "stream",
     "text": [
      "root\n",
      " |-- Empresa: string (nullable = true)\n",
      " |-- Persona: string (nullable = true)\n",
      " |-- Ventas: integer (nullable = true)\n",
      "\n"
     ]
    }
   ],
   "source": [
    "df.printSchema()"
   ]
  },
  {
   "cell_type": "markdown",
   "id": "48604946",
   "metadata": {},
   "source": [
    "### groupBy"
   ]
  },
  {
   "cell_type": "code",
   "execution_count": 49,
   "id": "bae5d81c",
   "metadata": {},
   "outputs": [
    {
     "name": "stdout",
     "output_type": "stream",
     "text": [
      "+-------+-----------+\n",
      "|Empresa|sum(Ventas)|\n",
      "+-------+-----------+\n",
      "|   APPL|       1480|\n",
      "|   GOOG|        660|\n",
      "|     FB|       1220|\n",
      "|   MSFT|        967|\n",
      "+-------+-----------+\n",
      "\n"
     ]
    }
   ],
   "source": [
    "df.groupBy('Empresa').sum().show()"
   ]
  },
  {
   "cell_type": "code",
   "execution_count": null,
   "id": "98a51d83",
   "metadata": {},
   "outputs": [],
   "source": []
  }
 ],
 "metadata": {
  "kernelspec": {
   "display_name": "Python 3 (ipykernel)",
   "language": "python",
   "name": "python3"
  },
  "language_info": {
   "codemirror_mode": {
    "name": "ipython",
    "version": 3
   },
   "file_extension": ".py",
   "mimetype": "text/x-python",
   "name": "python",
   "nbconvert_exporter": "python",
   "pygments_lexer": "ipython3",
   "version": "3.11.4"
  }
 },
 "nbformat": 4,
 "nbformat_minor": 5
}
