{
 "cells": [
  {
   "cell_type": "code",
   "execution_count": 1,
   "id": "e7262736",
   "metadata": {},
   "outputs": [],
   "source": [
    "from pyspark.sql import SparkSession"
   ]
  },
  {
   "cell_type": "code",
   "execution_count": 2,
   "id": "667db515",
   "metadata": {},
   "outputs": [],
   "source": [
    "from pyspark.sql.types import StructField, StructType, StringType, IntegerType"
   ]
  },
  {
   "cell_type": "code",
   "execution_count": 19,
   "id": "d2e7e7f7",
   "metadata": {},
   "outputs": [],
   "source": [
    "from pyspark.sql.functions import countDistinct, avg, stddev, format_number"
   ]
  },
  {
   "cell_type": "code",
   "execution_count": 3,
   "id": "6c4beb05",
   "metadata": {},
   "outputs": [
    {
     "name": "stderr",
     "output_type": "stream",
     "text": [
      "Setting default log level to \"WARN\".\n",
      "To adjust logging level use sc.setLogLevel(newLevel). For SparkR, use setLogLevel(newLevel).\n",
      "23/10/24 00:24:00 WARN NativeCodeLoader: Unable to load native-hadoop library for your platform... using builtin-java classes where applicable\n"
     ]
    }
   ],
   "source": [
    "spark = SparkSession.builder.appName('DataFrame').getOrCreate()"
   ]
  },
  {
   "cell_type": "markdown",
   "id": "1bb9cfc7",
   "metadata": {},
   "source": [
    "### agrupaciones"
   ]
  },
  {
   "cell_type": "code",
   "execution_count": 4,
   "id": "d2373ad6",
   "metadata": {},
   "outputs": [
    {
     "name": "stderr",
     "output_type": "stream",
     "text": [
      "                                                                                \r"
     ]
    }
   ],
   "source": [
    "df = spark.read.csv('ventas.csv', inferSchema = True, header = True)"
   ]
  },
  {
   "cell_type": "code",
   "execution_count": 5,
   "id": "e126927a",
   "metadata": {},
   "outputs": [
    {
     "name": "stdout",
     "output_type": "stream",
     "text": [
      "+-------+-------+------+\n",
      "|Empresa|Persona|Ventas|\n",
      "+-------+-------+------+\n",
      "|   GOOG| Carlos|   200|\n",
      "|   GOOG|   Juan|   120|\n",
      "|   GOOG| Felipe|   340|\n",
      "|   MSFT|   Tina|   600|\n",
      "|   MSFT| Andrea|   124|\n",
      "|   MSFT|  Carla|   243|\n",
      "|     FB|   Sara|   870|\n",
      "|     FB|Ignacio|   350|\n",
      "|   APPL| Miguel|   250|\n",
      "|   APPL|  Oscar|   130|\n",
      "|   APPL|  Jorge|   750|\n",
      "|   APPL|   Ivan|   350|\n",
      "+-------+-------+------+\n",
      "\n"
     ]
    }
   ],
   "source": [
    "df.show()"
   ]
  },
  {
   "cell_type": "code",
   "execution_count": 6,
   "id": "9bc8f51d",
   "metadata": {},
   "outputs": [
    {
     "name": "stdout",
     "output_type": "stream",
     "text": [
      "root\n",
      " |-- Empresa: string (nullable = true)\n",
      " |-- Persona: string (nullable = true)\n",
      " |-- Ventas: integer (nullable = true)\n",
      "\n"
     ]
    }
   ],
   "source": [
    "df.printSchema()"
   ]
  },
  {
   "cell_type": "markdown",
   "id": "c80221a6",
   "metadata": {},
   "source": [
    "### groupBy"
   ]
  },
  {
   "cell_type": "code",
   "execution_count": 7,
   "id": "e13187b1",
   "metadata": {},
   "outputs": [
    {
     "name": "stdout",
     "output_type": "stream",
     "text": [
      "+-------+-----------+\n",
      "|Empresa|sum(Ventas)|\n",
      "+-------+-----------+\n",
      "|   APPL|       1480|\n",
      "|   GOOG|        660|\n",
      "|     FB|       1220|\n",
      "|   MSFT|        967|\n",
      "+-------+-----------+\n",
      "\n"
     ]
    }
   ],
   "source": [
    "df.groupBy('Empresa').sum().show()"
   ]
  },
  {
   "cell_type": "markdown",
   "id": "47679f91",
   "metadata": {},
   "source": [
    "### agg"
   ]
  },
  {
   "cell_type": "code",
   "execution_count": 10,
   "id": "d99583e4",
   "metadata": {},
   "outputs": [
    {
     "name": "stdout",
     "output_type": "stream",
     "text": [
      "+-----------+\n",
      "|max(Ventas)|\n",
      "+-----------+\n",
      "|        870|\n",
      "+-----------+\n",
      "\n"
     ]
    }
   ],
   "source": [
    "df.agg({'Ventas': 'max'}).show()"
   ]
  },
  {
   "cell_type": "code",
   "execution_count": 8,
   "id": "f4ab8d71",
   "metadata": {},
   "outputs": [],
   "source": [
    "agrupado = df.groupBy('Empresa')"
   ]
  },
  {
   "cell_type": "code",
   "execution_count": 9,
   "id": "8c5839ce",
   "metadata": {},
   "outputs": [
    {
     "name": "stdout",
     "output_type": "stream",
     "text": [
      "+-------+-----------+\n",
      "|Empresa|max(Ventas)|\n",
      "+-------+-----------+\n",
      "|   APPL|        750|\n",
      "|   GOOG|        340|\n",
      "|     FB|        870|\n",
      "|   MSFT|        600|\n",
      "+-------+-----------+\n",
      "\n"
     ]
    }
   ],
   "source": [
    "agrupado.agg({'Ventas': 'max'}).show()"
   ]
  },
  {
   "cell_type": "markdown",
   "id": "9bc638d2",
   "metadata": {},
   "source": [
    "### otras funciones"
   ]
  },
  {
   "cell_type": "code",
   "execution_count": 16,
   "id": "c602817a",
   "metadata": {},
   "outputs": [
    {
     "name": "stdout",
     "output_type": "stream",
     "text": [
      "+----------------------+\n",
      "|count(DISTINCT Ventas)|\n",
      "+----------------------+\n",
      "|                    11|\n",
      "+----------------------+\n",
      "\n"
     ]
    }
   ],
   "source": [
    "df.select(countDistinct('Ventas')).show()"
   ]
  },
  {
   "cell_type": "code",
   "execution_count": 17,
   "id": "d0278f96",
   "metadata": {},
   "outputs": [
    {
     "name": "stdout",
     "output_type": "stream",
     "text": [
      "+-----------------+\n",
      "|  Media de ventas|\n",
      "+-----------------+\n",
      "|360.5833333333333|\n",
      "+-----------------+\n",
      "\n"
     ]
    }
   ],
   "source": [
    "df.select(avg('Ventas').alias('Media de ventas')).show()"
   ]
  },
  {
   "cell_type": "code",
   "execution_count": 18,
   "id": "9f5cb10d",
   "metadata": {},
   "outputs": [
    {
     "name": "stdout",
     "output_type": "stream",
     "text": [
      "+------------------+\n",
      "|  Stddev de ventas|\n",
      "+------------------+\n",
      "|250.08742410799007|\n",
      "+------------------+\n",
      "\n"
     ]
    }
   ],
   "source": [
    "df.select(stddev('Ventas').alias('Stddev de ventas')).show()"
   ]
  },
  {
   "cell_type": "code",
   "execution_count": 29,
   "id": "1f9faa8e",
   "metadata": {},
   "outputs": [],
   "source": [
    "ventas_stddev = df.select(stddev('Ventas'))"
   ]
  },
  {
   "cell_type": "code",
   "execution_count": 30,
   "id": "08f83c58",
   "metadata": {},
   "outputs": [
    {
     "name": "stdout",
     "output_type": "stream",
     "text": [
      "+------------------+\n",
      "|    stddev(Ventas)|\n",
      "+------------------+\n",
      "|250.08742410799007|\n",
      "+------------------+\n",
      "\n"
     ]
    }
   ],
   "source": [
    "ventas_stddev.show()"
   ]
  },
  {
   "cell_type": "code",
   "execution_count": 31,
   "id": "e44c19f3",
   "metadata": {},
   "outputs": [
    {
     "name": "stdout",
     "output_type": "stream",
     "text": [
      "+----------------+\n",
      "|Stddev de ventas|\n",
      "+----------------+\n",
      "|          250.09|\n",
      "+----------------+\n",
      "\n"
     ]
    }
   ],
   "source": [
    "ventas_stddev.select(format_number('stddev(Ventas)', 2).alias('Stddev de ventas')).show()"
   ]
  },
  {
   "cell_type": "markdown",
   "id": "dce88bc5",
   "metadata": {},
   "source": [
    "### orderBy"
   ]
  },
  {
   "cell_type": "code",
   "execution_count": 32,
   "id": "3e81f8d3",
   "metadata": {},
   "outputs": [
    {
     "name": "stdout",
     "output_type": "stream",
     "text": [
      "+-------+-------+------+\n",
      "|Empresa|Persona|Ventas|\n",
      "+-------+-------+------+\n",
      "|   GOOG|   Juan|   120|\n",
      "|   MSFT| Andrea|   124|\n",
      "|   APPL|  Oscar|   130|\n",
      "|   GOOG| Carlos|   200|\n",
      "|   MSFT|  Carla|   243|\n",
      "|   APPL| Miguel|   250|\n",
      "|   GOOG| Felipe|   340|\n",
      "|     FB|Ignacio|   350|\n",
      "|   APPL|   Ivan|   350|\n",
      "|   MSFT|   Tina|   600|\n",
      "|   APPL|  Jorge|   750|\n",
      "|     FB|   Sara|   870|\n",
      "+-------+-------+------+\n",
      "\n"
     ]
    }
   ],
   "source": [
    "df.orderBy('Ventas').show()"
   ]
  },
  {
   "cell_type": "code",
   "execution_count": 33,
   "id": "245b4384",
   "metadata": {},
   "outputs": [
    {
     "name": "stdout",
     "output_type": "stream",
     "text": [
      "+-------+-------+------+\n",
      "|Empresa|Persona|Ventas|\n",
      "+-------+-------+------+\n",
      "|     FB|   Sara|   870|\n",
      "|   APPL|  Jorge|   750|\n",
      "|   MSFT|   Tina|   600|\n",
      "|     FB|Ignacio|   350|\n",
      "|   APPL|   Ivan|   350|\n",
      "|   GOOG| Felipe|   340|\n",
      "|   APPL| Miguel|   250|\n",
      "|   MSFT|  Carla|   243|\n",
      "|   GOOG| Carlos|   200|\n",
      "|   APPL|  Oscar|   130|\n",
      "|   MSFT| Andrea|   124|\n",
      "|   GOOG|   Juan|   120|\n",
      "+-------+-------+------+\n",
      "\n"
     ]
    }
   ],
   "source": [
    "df.orderBy(df['Ventas'].desc()).show()"
   ]
  },
  {
   "cell_type": "code",
   "execution_count": null,
   "id": "d35ed5c4",
   "metadata": {},
   "outputs": [],
   "source": []
  }
 ],
 "metadata": {
  "kernelspec": {
   "display_name": "Python 3 (ipykernel)",
   "language": "python",
   "name": "python3"
  },
  "language_info": {
   "codemirror_mode": {
    "name": "ipython",
    "version": 3
   },
   "file_extension": ".py",
   "mimetype": "text/x-python",
   "name": "python",
   "nbconvert_exporter": "python",
   "pygments_lexer": "ipython3",
   "version": "3.11.4"
  }
 },
 "nbformat": 4,
 "nbformat_minor": 5
}
