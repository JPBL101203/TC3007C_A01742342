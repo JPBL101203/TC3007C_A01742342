{
 "cells": [
  {
   "cell_type": "code",
   "execution_count": 1,
   "id": "5f39a90b",
   "metadata": {},
   "outputs": [],
   "source": [
    "from pyspark.sql import SparkSession"
   ]
  },
  {
   "cell_type": "code",
   "execution_count": 20,
   "id": "2886dbc4",
   "metadata": {},
   "outputs": [],
   "source": [
    "from pyspark.sql.functions import mean"
   ]
  },
  {
   "cell_type": "code",
   "execution_count": 2,
   "id": "6b1f4ece",
   "metadata": {},
   "outputs": [
    {
     "name": "stderr",
     "output_type": "stream",
     "text": [
      "23/10/24 02:35:56 WARN Utils: Your hostname, ubuntu-s-1vcpu-2gb-sfo3-01 resolves to a loopback address: 127.0.1.1; using 10.48.0.5 instead (on interface eth0)\n",
      "23/10/24 02:35:56 WARN Utils: Set SPARK_LOCAL_IP if you need to bind to another address\n",
      "Setting default log level to \"WARN\".\n",
      "To adjust logging level use sc.setLogLevel(newLevel). For SparkR, use setLogLevel(newLevel).\n",
      "23/10/24 02:35:57 WARN NativeCodeLoader: Unable to load native-hadoop library for your platform... using builtin-java classes where applicable\n"
     ]
    }
   ],
   "source": [
    "spark = SparkSession.builder.appName('nulos').getOrCreate()"
   ]
  },
  {
   "cell_type": "code",
   "execution_count": 3,
   "id": "0810e4bc",
   "metadata": {},
   "outputs": [
    {
     "name": "stderr",
     "output_type": "stream",
     "text": [
      "                                                                                \r"
     ]
    }
   ],
   "source": [
    "df = spark.read.csv('Null.csv', inferSchema = True, header = True)"
   ]
  },
  {
   "cell_type": "code",
   "execution_count": 4,
   "id": "459827f6",
   "metadata": {},
   "outputs": [
    {
     "name": "stdout",
     "output_type": "stream",
     "text": [
      "root\n",
      " |-- Id: string (nullable = true)\n",
      " |-- Nombre: string (nullable = true)\n",
      " |-- Ventas: integer (nullable = true)\n",
      " |-- Clientes: integer (nullable = true)\n",
      "\n"
     ]
    }
   ],
   "source": [
    "df.printSchema()"
   ]
  },
  {
   "cell_type": "code",
   "execution_count": 5,
   "id": "04c647cd",
   "metadata": {},
   "outputs": [
    {
     "name": "stdout",
     "output_type": "stream",
     "text": [
      "+----+------+------+--------+\n",
      "|  Id|Nombre|Ventas|Clientes|\n",
      "+----+------+------+--------+\n",
      "|emp1|  John|  NULL|       3|\n",
      "|emp2|  NULL|  NULL|    NULL|\n",
      "|emp3|  NULL|   345|    NULL|\n",
      "|emp4| Cindy|   456|       4|\n",
      "+----+------+------+--------+\n",
      "\n"
     ]
    }
   ],
   "source": [
    "df.show()"
   ]
  },
  {
   "cell_type": "code",
   "execution_count": 6,
   "id": "3212169d",
   "metadata": {},
   "outputs": [
    {
     "name": "stdout",
     "output_type": "stream",
     "text": [
      "+----+------+------+--------+\n",
      "|  Id|Nombre|Ventas|Clientes|\n",
      "+----+------+------+--------+\n",
      "|emp4| Cindy|   456|       4|\n",
      "+----+------+------+--------+\n",
      "\n"
     ]
    }
   ],
   "source": [
    "df.na.drop().show()"
   ]
  },
  {
   "cell_type": "code",
   "execution_count": 7,
   "id": "0607f053",
   "metadata": {},
   "outputs": [
    {
     "name": "stdout",
     "output_type": "stream",
     "text": [
      "+----+------+------+--------+\n",
      "|  Id|Nombre|Ventas|Clientes|\n",
      "+----+------+------+--------+\n",
      "|emp1|  John|  NULL|       3|\n",
      "|emp2|  NULL|  NULL|    NULL|\n",
      "|emp3|  NULL|   345|    NULL|\n",
      "|emp4| Cindy|   456|       4|\n",
      "+----+------+------+--------+\n",
      "\n"
     ]
    }
   ],
   "source": [
    "df.na.drop(thresh=1).show()"
   ]
  },
  {
   "cell_type": "code",
   "execution_count": 8,
   "id": "5e1e48ab",
   "metadata": {},
   "outputs": [
    {
     "name": "stdout",
     "output_type": "stream",
     "text": [
      "+----+------+------+--------+\n",
      "|  Id|Nombre|Ventas|Clientes|\n",
      "+----+------+------+--------+\n",
      "|emp1|  John|  NULL|       3|\n",
      "|emp4| Cindy|   456|       4|\n",
      "+----+------+------+--------+\n",
      "\n"
     ]
    }
   ],
   "source": [
    "df.na.drop(thresh=3).show()"
   ]
  },
  {
   "cell_type": "code",
   "execution_count": 9,
   "id": "b9ce0a1f",
   "metadata": {},
   "outputs": [
    {
     "name": "stdout",
     "output_type": "stream",
     "text": [
      "+----+------+------+--------+\n",
      "|  Id|Nombre|Ventas|Clientes|\n",
      "+----+------+------+--------+\n",
      "|emp4| Cindy|   456|       4|\n",
      "+----+------+------+--------+\n",
      "\n"
     ]
    }
   ],
   "source": [
    "df.na.drop(thresh=4).show()"
   ]
  },
  {
   "cell_type": "code",
   "execution_count": 10,
   "id": "1357b001",
   "metadata": {},
   "outputs": [
    {
     "name": "stdout",
     "output_type": "stream",
     "text": [
      "+----+------+------+--------+\n",
      "|  Id|Nombre|Ventas|Clientes|\n",
      "+----+------+------+--------+\n",
      "|emp4| Cindy|   456|       4|\n",
      "+----+------+------+--------+\n",
      "\n"
     ]
    }
   ],
   "source": [
    "df.na.drop(how='any').show()"
   ]
  },
  {
   "cell_type": "code",
   "execution_count": 11,
   "id": "eda74c1b",
   "metadata": {},
   "outputs": [
    {
     "name": "stdout",
     "output_type": "stream",
     "text": [
      "+----+------+------+--------+\n",
      "|  Id|Nombre|Ventas|Clientes|\n",
      "+----+------+------+--------+\n",
      "|emp1|  John|  NULL|       3|\n",
      "|emp2|  NULL|  NULL|    NULL|\n",
      "|emp3|  NULL|   345|    NULL|\n",
      "|emp4| Cindy|   456|       4|\n",
      "+----+------+------+--------+\n",
      "\n"
     ]
    }
   ],
   "source": [
    "df.na.drop(how='all').show()"
   ]
  },
  {
   "cell_type": "code",
   "execution_count": 12,
   "id": "ef93852b",
   "metadata": {},
   "outputs": [
    {
     "name": "stdout",
     "output_type": "stream",
     "text": [
      "+----+------+------+--------+\n",
      "|  Id|Nombre|Ventas|Clientes|\n",
      "+----+------+------+--------+\n",
      "|emp3|  NULL|   345|    NULL|\n",
      "|emp4| Cindy|   456|       4|\n",
      "+----+------+------+--------+\n",
      "\n"
     ]
    }
   ],
   "source": [
    "df.na.drop(subset='Ventas').show()"
   ]
  },
  {
   "cell_type": "code",
   "execution_count": 16,
   "id": "26303c7a",
   "metadata": {},
   "outputs": [
    {
     "name": "stdout",
     "output_type": "stream",
     "text": [
      "+----+------+------+--------+\n",
      "|  Id|Nombre|Ventas|Clientes|\n",
      "+----+------+------+--------+\n",
      "|emp1|  John|  NULL|       3|\n",
      "|emp4| Cindy|   456|       4|\n",
      "+----+------+------+--------+\n",
      "\n"
     ]
    }
   ],
   "source": [
    "df.na.drop(subset='Clientes').show()"
   ]
  },
  {
   "cell_type": "markdown",
   "id": "69f6f2b2",
   "metadata": {},
   "source": [
    "### rellenar fill"
   ]
  },
  {
   "cell_type": "code",
   "execution_count": 17,
   "id": "f70a0d8a",
   "metadata": {},
   "outputs": [
    {
     "name": "stdout",
     "output_type": "stream",
     "text": [
      "+----+------+------+--------+\n",
      "|  Id|Nombre|Ventas|Clientes|\n",
      "+----+------+------+--------+\n",
      "|emp1|  John|     0|       3|\n",
      "|emp2|  NULL|     0|       0|\n",
      "|emp3|  NULL|   345|       0|\n",
      "|emp4| Cindy|   456|       4|\n",
      "+----+------+------+--------+\n",
      "\n"
     ]
    }
   ],
   "source": [
    "df.na.fill(0).show()"
   ]
  },
  {
   "cell_type": "code",
   "execution_count": 19,
   "id": "15ef4fa2",
   "metadata": {},
   "outputs": [
    {
     "name": "stdout",
     "output_type": "stream",
     "text": [
      "+----+------+------+--------+\n",
      "|  Id|Nombre|Ventas|Clientes|\n",
      "+----+------+------+--------+\n",
      "|emp1|  John|     0|       3|\n",
      "|emp2|  NULL|     0|    NULL|\n",
      "|emp3|  NULL|   345|    NULL|\n",
      "|emp4| Cindy|   456|       4|\n",
      "+----+------+------+--------+\n",
      "\n"
     ]
    }
   ],
   "source": [
    "df.na.fill(0, subset='Ventas').show()"
   ]
  },
  {
   "cell_type": "markdown",
   "id": "0c440cd7",
   "metadata": {},
   "source": [
    "### Rellenar con la media"
   ]
  },
  {
   "cell_type": "code",
   "execution_count": 21,
   "id": "5266b304",
   "metadata": {},
   "outputs": [],
   "source": [
    "media = df.select(mean(df['Ventas'])).collect()"
   ]
  },
  {
   "cell_type": "code",
   "execution_count": 23,
   "id": "5d6d4a6b",
   "metadata": {},
   "outputs": [
    {
     "data": {
      "text/plain": [
       "400.5"
      ]
     },
     "execution_count": 23,
     "metadata": {},
     "output_type": "execute_result"
    }
   ],
   "source": [
    "media[0][0]"
   ]
  },
  {
   "cell_type": "code",
   "execution_count": 24,
   "id": "eb42dacc",
   "metadata": {},
   "outputs": [
    {
     "name": "stdout",
     "output_type": "stream",
     "text": [
      "+----+------+------+--------+\n",
      "|  Id|Nombre|Ventas|Clientes|\n",
      "+----+------+------+--------+\n",
      "|emp1|  John|   400|       3|\n",
      "|emp2|  NULL|   400|    NULL|\n",
      "|emp3|  NULL|   345|    NULL|\n",
      "|emp4| Cindy|   456|       4|\n",
      "+----+------+------+--------+\n",
      "\n"
     ]
    }
   ],
   "source": [
    "df.na.fill(media[0][0], ['Ventas']).show()"
   ]
  },
  {
   "cell_type": "code",
   "execution_count": null,
   "id": "242137d1",
   "metadata": {},
   "outputs": [],
   "source": []
  }
 ],
 "metadata": {
  "kernelspec": {
   "display_name": "Python 3 (ipykernel)",
   "language": "python",
   "name": "python3"
  },
  "language_info": {
   "codemirror_mode": {
    "name": "ipython",
    "version": 3
   },
   "file_extension": ".py",
   "mimetype": "text/x-python",
   "name": "python",
   "nbconvert_exporter": "python",
   "pygments_lexer": "ipython3",
   "version": "3.11.4"
  }
 },
 "nbformat": 4,
 "nbformat_minor": 5
}
